{
 "cells": [
  {
   "cell_type": "markdown",
   "metadata": {
    "collapsed": true,
    "pycharm": {
     "name": "#%% md\n"
    }
   },
   "source": [
    "# A Reporting Case-Control Study of AEFIs Following the COVID-19 Vaccine Reported to VAERS\n",
    "\n",
    "_Chris von Csefalvay_\n",
    "\n",
    "_04 July 2021_"
   ]
  },
  {
   "cell_type": "markdown",
   "source": [
    "## Analysis plan\n",
    "\n",
    "1. Import VAERS data from 2015 onwards, to give a sufficient number of records.\n",
    "2. We filter out unknown ages and genders.\n",
    "3. We then bracket age groups: <18, 18-25, 26-35, 36-45, 46-55, 56-65, 66-75, 76-85, 85+\n",
    "4. We use `pymatch` to create a matched set of controls by:\n",
    "    * age band\n",
    "    * gender\n",
    "5. We drop all events that have fewer occurrences than 0.5% of the higher of the two sets' cardinalities.\n",
    "6. We filter out all diagnostic, procedural &c. codes.\n",
    "7. Finally, we calculate the reporting odds ratios of all symptoms."
   ],
   "metadata": {
    "collapsed": false,
    "pycharm": {
     "name": "#%% md\n"
    }
   }
  },
  {
   "cell_type": "code",
   "execution_count": 2,
   "outputs": [
    {
     "name": "stdout",
     "output_type": "stream",
     "text": [
      "pandas version: 1.3.0\n",
      "numpy version: 1.21.0\n",
      "statsmodels version: 0.12.2\n"
     ]
    }
   ],
   "source": [
    "import statsmodels\n",
    "import statsmodels.api as sm\n",
    "import matplotlib.pyplot as plt\n",
    "import seaborn as sns\n",
    "import pandas as pd\n",
    "import numpy as np\n",
    "import pymatch\n",
    "from pymatch import Matcher\n",
    "\n",
    "import warnings\n",
    "warnings.filterwarnings('ignore')\n",
    "\n",
    "%matplotlib inline\n",
    "\n",
    "print(f\"pandas version: {pd.__version__}\")\n",
    "print(f\"numpy version: {np.__version__}\")\n",
    "print(f\"statsmodels version: {statsmodels.__version__}\")"
   ],
   "metadata": {
    "collapsed": false,
    "pycharm": {
     "name": "#%%\n"
    }
   }
  },
  {
   "cell_type": "code",
   "execution_count": null,
   "outputs": [],
   "source": [],
   "metadata": {
    "collapsed": false,
    "pycharm": {
     "name": "#%%\n"
    }
   }
  }
 ],
 "metadata": {
  "kernelspec": {
   "display_name": "Python 3",
   "language": "python",
   "name": "python3"
  },
  "language_info": {
   "codemirror_mode": {
    "name": "ipython",
    "version": 2
   },
   "file_extension": ".py",
   "mimetype": "text/x-python",
   "name": "python",
   "nbconvert_exporter": "python",
   "pygments_lexer": "ipython2",
   "version": "2.7.6"
  }
 },
 "nbformat": 4,
 "nbformat_minor": 0
}