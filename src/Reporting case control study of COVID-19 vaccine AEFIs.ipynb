{
 "cells": [
  {
   "cell_type": "markdown",
   "metadata": {
    "collapsed": true,
    "pycharm": {
     "name": "#%% md\n"
    }
   },
   "source": [
    "# A Reporting Case-Control Study of AEFIs Following the COVID-19 Vaccine Reported to VAERS\n",
    "\n",
    "_Chris von Csefalvay_\n",
    "\n",
    "_04 July 2021_"
   ]
  },
  {
   "cell_type": "markdown",
   "source": [
    "## Analysis plan\n",
    "\n",
    "1. Import VAERS data from 2015 onwards, to give a sufficient number of records.\n",
    "2. We filter out unknown ages and genders.\n",
    "3. We then bracket age groups: <18, 18-25, 26-35, 36-45, 46-55, 56-65, 66-75, 76-85, 85+\n",
    "4. We use `pymatch` to create a matched set of controls by:\n",
    "    * age band\n",
    "    * gender\n",
    "5. We drop all events that have fewer than 100 occurrences.\n",
    "6. We filter for autoimmune aetiologies.\n",
    "7. Finally, we calculate the reporting odds ratios of all symptoms."
   ],
   "metadata": {
    "collapsed": false,
    "pycharm": {
     "name": "#%% md\n"
    }
   }
  },
  {
   "cell_type": "code",
   "execution_count": 1,
   "outputs": [
    {
     "name": "stdout",
     "output_type": "stream",
     "text": [
      "pandas version: 1.3.0\n",
      "numpy version: 1.21.0\n",
      "statsmodels version: 0.12.2\n"
     ]
    },
    {
     "name": "stderr",
     "output_type": "stream",
     "text": [
      "/Users/csefalvayk/Developer/covid-vaccine-reporting-case-control/venv/lib/python3.7/site-packages/ipykernel_launcher.py:9: TqdmExperimentalWarning: Using `tqdm.autonotebook.tqdm` in notebook mode. Use `tqdm.tqdm` instead to force console mode (e.g. in jupyter console)\n",
      "  if __name__ == '__main__':\n"
     ]
    }
   ],
   "source": [
    "import statsmodels\n",
    "import statsmodels.api as sm\n",
    "import matplotlib.pyplot as plt\n",
    "import seaborn as sns\n",
    "import pandas as pd\n",
    "import numpy as np\n",
    "from pymatch.Matcher import Matcher\n",
    "import sys, re, os, glob\n",
    "from tqdm.autonotebook import tqdm\n",
    "\n",
    "tqdm.pandas()\n",
    "\n",
    "import warnings\n",
    "warnings.filterwarnings('ignore')\n",
    "\n",
    "%matplotlib inline\n",
    "\n",
    "# Fixed seed for reproducibility\n",
    "np.random.seed(4072021)\n",
    "\n",
    "print(f\"pandas version: {pd.__version__}\")\n",
    "print(f\"numpy version: {np.__version__}\")\n",
    "print(f\"statsmodels version: {statsmodels.__version__}\")"
   ],
   "metadata": {
    "collapsed": false,
    "pycharm": {
     "name": "#%%\n"
    }
   }
  },
  {
   "cell_type": "markdown",
   "source": [
    "## Analysis"
   ],
   "metadata": {
    "collapsed": false,
    "pycharm": {
     "name": "#%% md\n"
    }
   }
  },
  {
   "cell_type": "markdown",
   "source": [
    "### Loading VAERS data\n",
    "\n",
    "Note: for legal reasons, we cannot reproduce the raw VAERS data in Github. However, you can download the VAERS data set\n",
    "from [HHS](https://vaers.hhs.gov)."
   ],
   "metadata": {
    "collapsed": false,
    "pycharm": {
     "name": "#%% md\n"
    }
   }
  },
  {
   "cell_type": "code",
   "execution_count": 2,
   "outputs": [
    {
     "data": {
      "text/plain": "  0%|          | 0/27 [00:00<?, ?it/s]",
      "application/vnd.jupyter.widget-view+json": {
       "version_major": 2,
       "version_minor": 0,
       "model_id": "6a757f44e5f34a66ab24f6d6b3784d53"
      }
     },
     "metadata": {},
     "output_type": "display_data"
    },
    {
     "name": "stdout",
     "output_type": "stream",
     "text": [
      "CPU times: user 1.28 s, sys: 255 ms, total: 1.54 s\n",
      "Wall time: 1.56 s\n"
     ]
    }
   ],
   "source": [
    "%%time\n",
    "\n",
    "path = \"../data/\" # use your path\n",
    "vaccine_files = glob.glob(path + \"*VAERSVAX.csv\")\n",
    "\n",
    "vax_frames = []\n",
    "\n",
    "for filename in tqdm(vaccine_files):\n",
    "    df = pd.read_csv(filename, index_col=None, header=0, encoding=\"latin\")\n",
    "    vax_frames.append(df)\n",
    "\n",
    "vax = pd.concat(vax_frames, axis=0, ignore_index=True)[[\"VAERS_ID\", \"VAX_TYPE\"]]\n",
    "vax[\"VAX_TYPE\"] = vax[\"VAX_TYPE\"] == \"COVID19\"\n",
    "vax.columns = [\"VAERS_ID\", \"IS_COVID_VACCINE\"]"
   ],
   "metadata": {
    "collapsed": false,
    "pycharm": {
     "name": "#%%\n"
    }
   }
  },
  {
   "cell_type": "code",
   "execution_count": 3,
   "outputs": [
    {
     "data": {
      "text/plain": "  0%|          | 0/27 [00:00<?, ?it/s]",
      "application/vnd.jupyter.widget-view+json": {
       "version_major": 2,
       "version_minor": 0,
       "model_id": "3fbbaaf58500438694e85f857e07eba2"
      }
     },
     "metadata": {},
     "output_type": "display_data"
    },
    {
     "name": "stdout",
     "output_type": "stream",
     "text": [
      "CPU times: user 8.82 s, sys: 1.64 s, total: 10.5 s\n",
      "Wall time: 10.6 s\n"
     ]
    }
   ],
   "source": [
    "%%time\n",
    "\n",
    "recipient_files = glob.glob(path + \"*VAERSDATA.csv\")\n",
    "\n",
    "recipient_frames = []\n",
    "\n",
    "for filename in tqdm(recipient_files):\n",
    "    df = pd.read_csv(filename, index_col=None, header=0, encoding=\"latin\")\n",
    "    recipient_frames.append(df)\n",
    "\n",
    "recipients = pd.concat(recipient_frames, axis=0, ignore_index=True)[[\"VAERS_ID\", \"SEX\", \"CAGE_YR\"]]"
   ],
   "metadata": {
    "collapsed": false,
    "pycharm": {
     "name": "#%%\n"
    }
   }
  },
  {
   "cell_type": "markdown",
   "source": [
    "We age-band recipients by specifying the left margin of each age band."
   ],
   "metadata": {
    "collapsed": false,
    "pycharm": {
     "name": "#%% md\n"
    }
   }
  },
  {
   "cell_type": "code",
   "execution_count": 4,
   "outputs": [
    {
     "name": "stdout",
     "output_type": "stream",
     "text": [
      "CPU times: user 131 ms, sys: 28.3 ms, total: 159 ms\n",
      "Wall time: 157 ms\n"
     ]
    }
   ],
   "source": [
    "%%time\n",
    "\n",
    "age_bands = {0: \"<18\",\n",
    "             18: \"18-25\",\n",
    "             26: \"26-40\",\n",
    "             41: \"41-55\",\n",
    "             56: \"56-70\",\n",
    "             71: \">70\",\n",
    "             int(recipients.CAGE_YR.max()): \"max\"}\n",
    "\n",
    "recipients[\"AGE\"] = pd.cut(recipients.CAGE_YR, bins=list(age_bands.keys()), labels=list(age_bands.values())[:-1])\n",
    "recipients = recipients.drop(\"CAGE_YR\", axis=1).dropna()"
   ],
   "metadata": {
    "collapsed": false,
    "pycharm": {
     "name": "#%%\n"
    }
   }
  },
  {
   "cell_type": "code",
   "execution_count": 5,
   "outputs": [
    {
     "data": {
      "text/plain": "  0%|          | 0/27 [00:00<?, ?it/s]",
      "application/vnd.jupyter.widget-view+json": {
       "version_major": 2,
       "version_minor": 0,
       "model_id": "99e54d9f9fbb478bb8bdb5adaba7f00d"
      }
     },
     "metadata": {},
     "output_type": "display_data"
    },
    {
     "name": "stdout",
     "output_type": "stream",
     "text": [
      "CPU times: user 1.83 s, sys: 462 ms, total: 2.29 s\n",
      "Wall time: 2.31 s\n"
     ]
    }
   ],
   "source": [
    "%%time\n",
    "\n",
    "symptoms_files = glob.glob(path + \"*VAERSSYMPTOMS.csv\")\n",
    "\n",
    "symptoms_frames = []\n",
    "\n",
    "for filename in tqdm(symptoms_files):\n",
    "    df = pd.read_csv(filename, index_col=None, header=0)\n",
    "    symptoms_frames.append(df)\n",
    "\n",
    "\n",
    "symptoms = pd.melt(pd.concat(symptoms_frames, axis=0, ignore_index=True)[[\"VAERS_ID\", \"SYMPTOM1\", \"SYMPTOM2\", \"SYMPTOM3\", \"SYMPTOM4\", \"SYMPTOM5\"]],\n",
    "               id_vars=\"VAERS_ID\",\n",
    "               value_vars=(f\"SYMPTOM{i}\" for i in range(1, 6))).drop(\"variable\", axis=1)\n",
    "\n",
    "symptoms.columns = (\"VAERS_ID\", \"SYMPTOM\")"
   ],
   "metadata": {
    "collapsed": false,
    "pycharm": {
     "name": "#%%\n"
    }
   }
  },
  {
   "cell_type": "code",
   "execution_count": 6,
   "outputs": [
    {
     "name": "stdout",
     "output_type": "stream",
     "text": [
      "CPU times: user 204 ms, sys: 92.4 ms, total: 297 ms\n",
      "Wall time: 295 ms\n"
     ]
    }
   ],
   "source": [
    "%%time\n",
    "\n",
    "vaccination_data = vax.merge(recipients, how=\"inner\", on=\"VAERS_ID\")"
   ],
   "metadata": {
    "collapsed": false,
    "pycharm": {
     "name": "#%%\n"
    }
   }
  },
  {
   "cell_type": "code",
   "execution_count": 7,
   "outputs": [
    {
     "name": "stdout",
     "output_type": "stream",
     "text": [
      "Retrieved 1057678 rows.\n",
      "Breakdown:\n",
      "* COVID-19: 417186\n",
      "* Non-COVID-19: 1004170\n",
      " => Gearing: 2.41\n"
     ]
    }
   ],
   "source": [
    "print(f\"Retrieved {vaccination_data.shape[0]} rows.\")\n",
    "print(f\"Breakdown:\")\n",
    "print(f\"* COVID-19: {vax[vax.IS_COVID_VACCINE == True][['VAERS_ID']].count().values[0]}\")\n",
    "print(f\"* Non-COVID-19: {vax[vax.IS_COVID_VACCINE == False][['VAERS_ID']].count().values[0]}\")\n",
    "print(f\" => Gearing: {vax[vax.IS_COVID_VACCINE == False][['VAERS_ID']].count().values[0]/vax[vax.IS_COVID_VACCINE == True][['VAERS_ID']].count().values[0]:.2f}\")"
   ],
   "metadata": {
    "collapsed": false,
    "pycharm": {
     "name": "#%%\n"
    }
   }
  },
  {
   "cell_type": "code",
   "execution_count": 8,
   "outputs": [
    {
     "name": "stdout",
     "output_type": "stream",
     "text": [
      "CPU times: user 321 ms, sys: 105 ms, total: 426 ms\n",
      "Wall time: 425 ms\n"
     ]
    }
   ],
   "source": [
    "%%time\n",
    "\n",
    "case = vax[vax.IS_COVID_VACCINE == True].merge(recipients, how=\"inner\")\n",
    "control = vax[vax.IS_COVID_VACCINE == False].merge(recipients, how=\"inner\")\n",
    "\n",
    "# Numeric conversion of t/f to make it work with pymatch\n",
    "case[\"IS_COVID_VACCINE\"] = 1\n",
    "control[\"IS_COVID_VACCINE\"] = 0"
   ],
   "metadata": {
    "collapsed": false,
    "pycharm": {
     "name": "#%%\n"
    }
   }
  },
  {
   "cell_type": "markdown",
   "source": [
    "### Match cases and controls"
   ],
   "metadata": {
    "collapsed": false,
    "pycharm": {
     "name": "#%% md\n"
    }
   }
  },
  {
   "cell_type": "code",
   "execution_count": 9,
   "outputs": [
    {
     "name": "stdout",
     "output_type": "stream",
     "text": [
      "Formula:\n",
      "IS_COVID_VACCINE ~ SEX+AGE\n",
      "n majority: 696459\n",
      "n minority: 361219\n"
     ]
    }
   ],
   "source": [
    "m = Matcher(case, control, yvar=\"IS_COVID_VACCINE\", exclude=[\"VAERS_ID\"])"
   ],
   "metadata": {
    "collapsed": false,
    "pycharm": {
     "name": "#%%\n"
    }
   }
  },
  {
   "cell_type": "code",
   "execution_count": 10,
   "outputs": [
    {
     "name": "stdout",
     "output_type": "stream",
     "text": [
      "Fitting Models on Balanced Samples: 100\\100\n",
      "Average Accuracy: 73.99%\n",
      "CPU times: user 12min 14s, sys: 1min 40s, total: 13min 55s\n",
      "Wall time: 8min 7s\n"
     ]
    }
   ],
   "source": [
    "%%time\n",
    "\n",
    "m.fit_scores(balance=True, nmodels=100)"
   ],
   "metadata": {
    "collapsed": false,
    "pycharm": {
     "name": "#%%\n"
    }
   }
  },
  {
   "cell_type": "code",
   "execution_count": 11,
   "outputs": [
    {
     "name": "stdout",
     "output_type": "stream",
     "text": [
      "CPU times: user 14.2 s, sys: 2.99 s, total: 17.1 s\n",
      "Wall time: 4.47 s\n"
     ]
    }
   ],
   "source": [
    "%%time\n",
    "\n",
    "m.predict_scores()"
   ],
   "metadata": {
    "collapsed": false,
    "pycharm": {
     "name": "#%%\n"
    }
   }
  },
  {
   "cell_type": "code",
   "execution_count": 12,
   "outputs": [
    {
     "data": {
      "text/plain": "<Figure size 720x360 with 1 Axes>",
      "image/png": "[encoded data removed]"
     },
     "metadata": {
      "needs_background": "light"
     },
     "output_type": "display_data"
    }
   ],
   "source": [
    "m.plot_scores()"
   ],
   "metadata": {
    "collapsed": false,
    "pycharm": {
     "name": "#%%\n"
    }
   }
  },
  {
   "cell_type": "code",
   "execution_count": 13,
   "outputs": [
    {
     "name": "stdout",
     "output_type": "stream",
     "text": [
      "CPU times: user 47min 39s, sys: 1min 22s, total: 49min 1s\n",
      "Wall time: 49min 36s\n"
     ]
    }
   ],
   "source": [
    "%%time\n",
    "\n",
    "m.match(method=\"random\", nmatches=1)"
   ],
   "metadata": {
    "collapsed": false,
    "pycharm": {
     "name": "#%%\n"
    }
   }
  },
  {
   "cell_type": "code",
   "execution_count": 14,
   "outputs": [
    {
     "name": "stdout",
     "output_type": "stream",
     "text": [
      "CPU times: user 228 ms, sys: 92.6 ms, total: 321 ms\n",
      "Wall time: 337 ms\n"
     ]
    },
    {
     "data": {
      "text/plain": "   freq  n_records\n0     1     493224\n1     2      60884\n2     3      22652\n3     4       6869\n4     5       1814\n5     6        375\n6     7         74\n7     8         22",
      "text/html": "<div>\n<style scoped>\n    .dataframe tbody tr th:only-of-type {\n        vertical-align: middle;\n    }\n\n    .dataframe tbody tr th {\n        vertical-align: top;\n    }\n\n    .dataframe thead th {\n        text-align: right;\n    }\n</style>\n<table border=\"1\" class=\"dataframe\">\n  <thead>\n    <tr style=\"text-align: right;\">\n      <th></th>\n      <th>freq</th>\n      <th>n_records</th>\n    </tr>\n  </thead>\n  <tbody>\n    <tr>\n      <th>0</th>\n      <td>1</td>\n      <td>493224</td>\n    </tr>\n    <tr>\n      <th>1</th>\n      <td>2</td>\n      <td>60884</td>\n    </tr>\n    <tr>\n      <th>2</th>\n      <td>3</td>\n      <td>22652</td>\n    </tr>\n    <tr>\n      <th>3</th>\n      <td>4</td>\n      <td>6869</td>\n    </tr>\n    <tr>\n      <th>4</th>\n      <td>5</td>\n      <td>1814</td>\n    </tr>\n    <tr>\n      <th>5</th>\n      <td>6</td>\n      <td>375</td>\n    </tr>\n    <tr>\n      <th>6</th>\n      <td>7</td>\n      <td>74</td>\n    </tr>\n    <tr>\n      <th>7</th>\n      <td>8</td>\n      <td>22</td>\n    </tr>\n  </tbody>\n</table>\n</div>"
     },
     "execution_count": 14,
     "metadata": {},
     "output_type": "execute_result"
    }
   ],
   "source": [
    "%%time\n",
    "\n",
    "m.record_frequency()"
   ],
   "metadata": {
    "collapsed": false,
    "pycharm": {
     "name": "#%%\n"
    }
   }
  },
  {
   "cell_type": "code",
   "execution_count": 15,
   "outputs": [
    {
     "name": "stdout",
     "output_type": "stream",
     "text": [
      "CPU times: user 380 ms, sys: 112 ms, total: 492 ms\n",
      "Wall time: 497 ms\n"
     ]
    }
   ],
   "source": [
    "%%time\n",
    "\n",
    "m.assign_weight_vector()"
   ],
   "metadata": {
    "collapsed": false,
    "pycharm": {
     "name": "#%%\n"
    }
   }
  },
  {
   "cell_type": "code",
   "execution_count": 16,
   "outputs": [],
   "source": [
    "\n",
    "matched_up_symptoms = pd.DataFrame(m.matched_data.VAERS_ID).merge(vax, how=\"inner\").merge(symptoms.dropna(), how=\"inner\").drop_duplicates()"
   ],
   "metadata": {
    "collapsed": false,
    "pycharm": {
     "name": "#%%\n"
    }
   }
  },
  {
   "cell_type": "code",
   "execution_count": 17,
   "outputs": [],
   "source": [
    "p_normals = r\".*negative$|.*\\snormal$|.*(scopy|graphy|gram|metry|opsy)$|.*(count|percentage|level|test|assay|culture|X-ray|imaging|gradient|band(s)?|index|surface area|gas|scale|antibod(y|ies)|urine absent|Carotid pulse|partial pressure|time|P(C)?O2)$|Oxygen saturation$|End-tidal.*\"\n",
    "p_tests = r\".*(ase|ose|ine|enzyme|in|ine|ines|ium|ol|ole|ate|lytes|ogen|gases|oids|ide|one|an|copper|iron)$|.*(level therapeutic)$|.*(globulin)\\s.{1,2}$|Barium (swallow|enema)\"\n",
    "p_procedures = r\".*(plasty|insertion|tomy|ery|puncture|therapy|treatment|tripsy|operation|repair|procedure|bypass|insertion|removal|graft|closure|implant|lavage|support|transplant|match|bridement|application|ablation)$|Incisional drainage$|.* stimulation$|Immunisation$\"\n",
    "p_normal_procedures = r\"(Biopsy|pH|.* examination|X-ray|.* pulse|Blood|Electro(.*)gram|.* test(s)?|Echo(.*)gram|.*(scopy)|Cardiac (imaging|monitoring|ventriculogram)|Chromosomal|Carbohydrate antigen|Cell marker|.* examination|Computerised tomogram|Culture|.* evoked potential(s)?|Cytology|Doppler)(?!.*(abnormal|increased|decreased|depression|elevation|present|absent))\"\n",
    "p_managements = r\"(Catheter|Device\\).*|.* care$|.* user$|Cardiac pacemaker .*\"\n",
    "p_other_irrelevants = r\"Blood group.*|Blood don(or|ation)$|Drug (abuse(r)?|dependence|screen).*|Elderly|Non-tobacco user|No adverse event\"\n",
    "p_covid_related = r\".*COVID-19(prophylaxis|immunisation|screening)|Asymptomatic COVID-19\"\n",
    "\n",
    "p = re.compile(\"|\".join([p_normals, p_tests, p_procedures, p_normal_procedures, p_other_irrelevants, p_covid_related]))\n"
   ],
   "metadata": {
    "collapsed": false,
    "pycharm": {
     "name": "#%%\n"
    }
   }
  },
  {
   "cell_type": "code",
   "execution_count": 18,
   "outputs": [],
   "source": [
    "xt_by_symptom = pd.DataFrame(pd.crosstab(index=matched_up_symptoms.IS_COVID_VACCINE, columns=matched_up_symptoms.SYMPTOM))\n",
    "columns_to_keep = [x for x in list(xt_by_symptom.columns) if not p.match(x)]\n",
    "xt_by_symptom = xt_by_symptom[columns_to_keep]"
   ],
   "metadata": {
    "collapsed": false,
    "pycharm": {
     "name": "#%%\n"
    }
   }
  },
  {
   "cell_type": "code",
   "execution_count": 163,
   "outputs": [
    {
     "data": {
      "text/plain": "  0%|          | 0/7457 [00:00<?, ?it/s]",
      "application/vnd.jupyter.widget-view+json": {
       "version_major": 2,
       "version_minor": 0,
       "model_id": "a3481cc5c59247bfa6b543d7dd9872ce"
      }
     },
     "metadata": {},
     "output_type": "display_data"
    }
   ],
   "source": [
    "odds_ratios_by_symptom = pd.DataFrame(columns=xt_by_symptom.columns,\n",
    "                                      index=xt_by_symptom.index)\n",
    "\n",
    "symptom_sums = xt_by_symptom.sum(axis=0)\n",
    "vax_sums = xt_by_symptom.sum(axis=1)[True]\n",
    "xt_by_symptom_total = xt_by_symptom.sum().sum()\n",
    "\n",
    "symptom_iterator = tqdm(xt_by_symptom.columns)\n",
    "\n",
    "res = pd.DataFrame(index = xt_by_symptom.columns, columns = (\"ROR\", \"SE\", \"95CI_upper\", \"95CI_lower\"))\n",
    "\n",
    "for symptom in symptom_iterator:\n",
    "    symptom_iterator.set_description(f\"Processing: {symptom}\")\n",
    "    a = xt_by_symptom.loc[True, symptom]\n",
    "    b = vax_sums - a\n",
    "    c = xt_by_symptom.loc[False, symptom]\n",
    "    d = xt_by_symptom_total - (a + b + c)\n",
    "\n",
    "    OR = (a * d) / (c * b) if c * b > 0 else np.nan\n",
    "    SE = np.sqrt((1/a if a > 0 else 0) + (1/b if b > 0 else 0) + (1/c if c > 0 else 0) + (1/d if d > 0 else 0))\n",
    "\n",
    "    res.loc[symptom, \"ROR\"] = OR\n",
    "    res.loc[symptom, \"SE\"] = SE\n",
    "    res.loc[symptom, \"95CI_upper\"] = np.e ** (np.log(OR) + 1.96 * SE)\n",
    "    res.loc[symptom, \"95CI_lower\"] = np.e ** (np.log(OR) - 1.96 * SE)\n",
    "    res.loc[symptom, \"a\"] = a\n",
    "    res.loc[symptom, \"b\"] = b\n",
    "    res.loc[symptom, \"c\"] = c\n",
    "    res.loc[symptom, \"d\"] = d"
   ],
   "metadata": {
    "collapsed": false,
    "pycharm": {
     "name": "#%%\n"
    }
   }
  },
  {
   "cell_type": "code",
   "execution_count": 164,
   "outputs": [],
   "source": [
    "autoimmune_conditions = (\n",
    "    \"Alveolar proteinosis\",\n",
    "    \"Ankylosing spondylitis\",\n",
    "    \"Antisynthetase syndrome\",\n",
    "    \"Autoimmune colitis\",\n",
    "    \"Autoimmune disorder\",\n",
    "    \"Autoimmune hyperlipidaemia\",\n",
    "    \"Autoimmune inner ear disease\",\n",
    "    \"Autoimmune lymphoproliferative syndrome\",\n",
    "    \"Autoimmune myocarditis\",\n",
    "    \"Autoimmune nephritis\",\n",
    "    \"Autoimmune pericarditis\",\n",
    "    \"Autoimmune retinopathy\",\n",
    "    \"Autoimmune uveitis\",\n",
    "    \"Axial spondyloarthritis\",\n",
    "    \"Birdshot chorioretinopathy\",\n",
    "    \"Chronic autoimmune glomerulonephritis\",\n",
    "    \"Chronic gastritis\",\n",
    "    \"Chronic recurrent multifocal osteomyelitis\",\n",
    "    \"Coeliac disease\",\n",
    "    \"Collagen disorder\",\n",
    "    \"Collagen-vascular disease\",\n",
    "    \"Cryofibrinogenaemia\",\n",
    "    \"Cryoglobulinaemia\",\n",
    "    \"Dermatomyositis\",\n",
    "    \"Dressler's syndrome\",\n",
    "    \"Glomerulonephritis rapidly progressive\",\n",
    "    \"Goodpasture's syndrome\",\n",
    "    \"Immunoglobulin G4 related disease\",\n",
    "    \"Juvenile spondyloarthritis\",\n",
    "    \"Keratoderma blenorrhagica\",\n",
    "    \"Mixed connective tissue disease\",\n",
    "    \"Myocarditis post infection\",\n",
    "    \"Ocular pemphigoid\",\n",
    "    \"Overlap syndrome\",\n",
    "    \"Polychondritis\",\n",
    "    \"Postpericardiotomy syndrome\",\n",
    "    \"Pulmonary renal syndrome\",\n",
    "    \"Reiter's syndrome\",\n",
    "    \"Satoyoshi syndrome\",\n",
    "    \"Sjogren's syndrome\",\n",
    "    \"Sympathetic ophthalmia\",\n",
    "    \"Testicular autoimmunity\",\n",
    "    \"Undifferentiated connective tissue disease\",\n",
    "    \"Antiphospholipid syndrome\",\n",
    "    \"Autoimmune anaemia\",\n",
    "    \"Autoimmune aplastic anaemia\",\n",
    "    \"Autoimmune haemolytic anaemia\",\n",
    "    \"Autoimmune neutropenia\",\n",
    "    \"Autoimmune pancytopenia\",\n",
    "    \"Cold type haemolytic anaemia\",\n",
    "    \"Coombs positive haemolytic anaemia\",\n",
    "    \"Evans syndrome\",\n",
    "    \"Immune thrombocytopenic purpura\",\n",
    "    \"Pernicious anaemia\",\n",
    "    \"Warm type haemolytic anaemia\",\n",
    "    \"Addison's disease\",\n",
    "    \"Atrophic thyroiditis\",\n",
    "    \"Autoimmune endocrine disorder\",\n",
    "    \"Autoimmune hypothyroidism\",\n",
    "    \"Autoimmune pancreatitis\",\n",
    "    \"Autoimmune thyroid disorder\",\n",
    "    \"Autoimmune thyroiditis\",\n",
    "    \"Basedow's disease\",\n",
    "    \"Diabetic mastopathy\",\n",
    "    \"Endocrine ophthalmopathy\",\n",
    "    \"Hashimoto's encephalopathy\",\n",
    "    \"Hashitoxicosis\",\n",
    "    \"Insulin autoimmune syndrome\",\n",
    "    \"Ketosis-prone diabetes mellitus\",\n",
    "    \"Latent autoimmune diabetes in adults\",\n",
    "    \"Lymphocytic hypophysitis\",\n",
    "    \"Marine Lenhart syndrome\",\n",
    "    \"Polyglandular autoimmune syndrome type I\",\n",
    "    \"Polyglandular autoimmune syndrome type II\",\n",
    "    \"Polyglandular autoimmune syndrome type III\",\n",
    "    \"Silent thyroiditis\",\n",
    "    \"Type 1 diabetes mellitus\",\n",
    "    \"Autoimmune hepatitis\",\n",
    "    \"Biliary cirrhosis primary\",\n",
    "    \"Cholangitis sclerosing\",\n",
    "    \"Acute cutaneous lupus erythematosus\",\n",
    "    \"Butterfly rash\",\n",
    "    \"Central nervous system lupus\",\n",
    "    \"Chronic cutaneous lupus erythematosus\",\n",
    "    \"Cutaneous lupus erythematosus\",\n",
    "    \"Lupoid hepatic cirrhosis\",\n",
    "    \"Lupus cystitis\",\n",
    "    \"Lupus encephalitis\",\n",
    "    \"Lupus endocarditis\",\n",
    "    \"Lupus enteritis\",\n",
    "    \"Lupus hepatitis\",\n",
    "    \"Lupus myocarditis\",\n",
    "    \"Lupus myositis\",\n",
    "    \"Lupus nephritis\",\n",
    "    \"Lupus pancreatitis\",\n",
    "    \"Lupus pleurisy\",\n",
    "    \"Lupus pneumonitis\",\n",
    "    \"Lupus vasculitis\",\n",
    "    \"Lupus-like syndrome\",\n",
    "    \"Neonatal lupus erythematosus\",\n",
    "    \"Neuropsychiatric lupus\",\n",
    "    \"Pericarditis lupus\",\n",
    "    \"Peritonitis lupus\",\n",
    "    \"Shrinking lung syndrome\",\n",
    "    \"SLE arthritis\",\n",
    "    \"Subacute cutaneous lupus erythematosus\",\n",
    "    \"Systemic lupus erythematosus\",\n",
    "    \"Systemic lupus erythematosus rash\",\n",
    "    \"Immune-mediated necrotising myopathy\",\n",
    "    \"Inclusion body myositis\",\n",
    "    \"Juvenile polymyositis\",\n",
    "    \"Morvan syndrome\",\n",
    "    \"Myasthenia gravis\",\n",
    "    \"Myasthenia gravis crisis\",\n",
    "    \"Myasthenia gravis neonatal\",\n",
    "    \"Myasthenic syndrome\",\n",
    "    \"Neuromyotonia\",\n",
    "    \"Ocular myasthenia\",\n",
    "    \"Polymyalgia rheumatica\",\n",
    "    \"Polymyositis\",\n",
    "    \"Acute disseminated encephalomyelitis\",\n",
    "    \"Acute haemorrhagic leukoencephalitis\",\n",
    "    \"Acute motor axonal neuropathy\",\n",
    "    \"Acute motor-sensory axonal neuropathy\",\n",
    "    \"Anti-myelin-associated glycoprotein associated polyneuropathy\",\n",
    "    \"Autoimmune demyelinating disease\",\n",
    "    \"Autoimmune encephalopathy\",\n",
    "    \"Autoimmune neuropathy\",\n",
    "    \"Bickerstaff's encephalitis\",\n",
    "    \"Chronic inflammatory demyelinating polyradiculoneuropathy\",\n",
    "    \"Chronic lymphocytic inflammation with pontine perivascular enhancement responsive to steroids\",\n",
    "    \"Concentric sclerosis\",\n",
    "    \"Demyelinating polyneuropathy\",\n",
    "    \"Encephalitis allergic\",\n",
    "    \"Encephalitis autoimmune\",\n",
    "    \"Guillain-Barre syndrome\",\n",
    "    \"Leukoencephalomyelitis\",\n",
    "    \"Limbic encephalitis\",\n",
    "    \"Multiple sclerosis\",\n",
    "    \"Myelitis transverse\",\n",
    "    \"Neuralgic amyotrophy\",\n",
    "    \"Neuromyelitis optica spectrum disorder\",\n",
    "    \"Optic neuritis\",\n",
    "    \"Paediatric autoimmune neuropsychiatric disorders associated with streptococcal infection\",\n",
    "    \"POEMS syndrome\",\n",
    "    \"Radiologically isolated syndrome\",\n",
    "    \"Rasmussen encephalitis\",\n",
    "    \"Secondary cerebellar degeneration\",\n",
    "    \"Stiff leg syndrome\",\n",
    "    \"Stiff person syndrome\",\n",
    "    \"Susac's syndrome\",\n",
    "    \"Toxic oil syndrome\",\n",
    "    \"Autoimmune arthritis\",\n",
    "    \"Caplan's syndrome\",\n",
    "    \"Cogan's syndrome\",\n",
    "    \"Felty's syndrome\",\n",
    "    \"Juvenile idiopathic arthritis\",\n",
    "    \"Laryngeal rheumatoid arthritis\",\n",
    "    \"Palindromic rheumatism\",\n",
    "    \"Rheumatoid arthritis\",\n",
    "    \"Rheumatoid lung\",\n",
    "    \"Rheumatoid neutrophilic dermatosis\",\n",
    "    \"Rheumatoid nodule\",\n",
    "    \"Rheumatoid scleritis\",\n",
    "    \"Rheumatoid vasculitis\",\n",
    "    \"CREST syndrome\",\n",
    "    \"Digital pitting scar\",\n",
    "    \"Morphoea\",\n",
    "    \"Reynold's syndrome\",\n",
    "    \"Sclerodactylia\",\n",
    "    \"Scleroderma\",\n",
    "    \"Scleroderma associated digital ulcer\",\n",
    "    \"Scleroderma renal crisis\",\n",
    "    \"Scleroderma-like reaction\",\n",
    "    \"Systemic scleroderma\",\n",
    "    \"Systemic sclerosis pulmonary\",\n",
    "    \"Alopecia areata\",\n",
    "    \"Autoimmune dermatitis\",\n",
    "    \"Benign familial pemphigus\",\n",
    "    \"Dermatitis herpetiformis\",\n",
    "    \"Eosinophilic fasciitis\",\n",
    "    \"Granulomatous dermatitis\",\n",
    "    \"Herpes gestationis\",\n",
    "    \"Interstitial granulomatous dermatitis\",\n",
    "    \"Linear IgA disease\",\n",
    "    \"Nephrogenic systemic fibrosis\",\n",
    "    \"Palisaded neutrophilic granulomatous dermatitis\",\n",
    "    \"Paraneoplastic dermatomyositis\",\n",
    "    \"Paraneoplastic pemphigus\",\n",
    "    \"Pemphigoid\",\n",
    "    \"Pemphigus\",\n",
    "    \"Pityriasis lichenoides et varioliformis acuta\",\n",
    "    \"Progressive facial hemiatrophy\",\n",
    "    \"Pyoderma gangrenosum\",\n",
    "    \"Vitiligo\",\n",
    "    \"Autoinflammatory disease\",\n",
    "    \"Blau syndrome\",\n",
    "    \"CANDLE syndrome\",\n",
    "    \"Chronic infantile neurological cutaneous and articular syndrome\",\n",
    "    \"Cryopyrin associated periodic syndrome\",\n",
    "    \"Deficiency of the interleukin-1 receptor antagonist\",\n",
    "    \"Deficiency of the interleukin-36 receptor antagonist\",\n",
    "    \"Familial cold autoinflammatory syndrome\",\n",
    "    \"Hyper IgD syndrome\",\n",
    "    \"Majeed's syndrome\",\n",
    "    \"Mevalonate kinase deficiency\",\n",
    "    \"Mevalonic aciduria\",\n",
    "    \"Muckle-Wells syndrome\",\n",
    "    \"Pyogenic sterile arthritis pyoderma gangrenosum and acne syndrome\",\n",
    "    \"Still's disease\"\n",
    ")"
   ],
   "metadata": {
    "collapsed": false,
    "pycharm": {
     "name": "#%%\n"
    }
   }
  },
  {
   "cell_type": "code",
   "execution_count": 165,
   "outputs": [],
   "source": [
    "odds_ratios = res.loc[[x for x in res.index if x in autoimmune_conditions],:].dropna().sort_values(\"ROR\", ascending=False)"
   ],
   "metadata": {
    "collapsed": false,
    "pycharm": {
     "name": "#%%\n"
    }
   }
  },
  {
   "cell_type": "code",
   "execution_count": 166,
   "outputs": [],
   "source": [
    "odds_ratios.to_csv(\"odds_ratios.csv\")"
   ],
   "metadata": {
    "collapsed": false,
    "pycharm": {
     "name": "#%%\n"
    }
   }
  },
  {
   "cell_type": "markdown",
   "source": [
    "### Odds ratios by gender and age"
   ],
   "metadata": {
    "collapsed": false,
    "pycharm": {
     "name": "#%% md\n"
    }
   }
  },
  {
   "cell_type": "code",
   "execution_count": 167,
   "outputs": [
    {
     "name": "stdout",
     "output_type": "stream",
     "text": [
      "CPU times: user 436 ms, sys: 237 ms, total: 673 ms\n",
      "Wall time: 741 ms\n"
     ]
    }
   ],
   "source": [
    "%%time\n",
    "\n",
    "case_counts_by_gender_and_age = matched_up_symptoms.merge(recipients, how=\"inner\")\n",
    "case_counts_by_gender_and_age[\"IS_AUTOIMMUNE\"] = case_counts_by_gender_and_age.SYMPTOM.isin(autoimmune_conditions)"
   ],
   "metadata": {
    "collapsed": false,
    "pycharm": {
     "name": "#%%\n"
    }
   }
  },
  {
   "cell_type": "code",
   "execution_count": 168,
   "outputs": [],
   "source": [
    "counts_by_gender = case_counts_by_gender_and_age.drop([\"SYMPTOM\", \"AGE\"], axis=1).groupby(\"VAERS_ID\").agg({\"IS_COVID_VACCINE\": \"first\",\n",
    "                                                                                \"IS_AUTOIMMUNE\": max,\n",
    "                                                                                \"SEX\": \"first\"})\n",
    "\n",
    "counts_by_age_group = case_counts_by_gender_and_age.drop([\"SYMPTOM\", \"SEX\"], axis=1).groupby(\"VAERS_ID\").agg({\"IS_COVID_VACCINE\": \"first\",\n",
    "                                                                                \"IS_AUTOIMMUNE\": max,\n",
    "                                                                                \"AGE\": \"first\"})"
   ],
   "metadata": {
    "collapsed": false,
    "pycharm": {
     "name": "#%%\n"
    }
   }
  },
  {
   "cell_type": "code",
   "execution_count": 169,
   "outputs": [
    {
     "data": {
      "text/plain": "IS_AUTOIMMUNE      False               True         \nSEX                    F      M     U     F     M  U\nIS_COVID_VACCINE                                    \nFalse             140711  54686  1273  1717  1283  9\nTrue              250634  95327  1563   923   530  5",
      "text/html": "<div>\n<style scoped>\n    .dataframe tbody tr th:only-of-type {\n        vertical-align: middle;\n    }\n\n    .dataframe tbody tr th {\n        vertical-align: top;\n    }\n\n    .dataframe thead tr th {\n        text-align: left;\n    }\n\n    .dataframe thead tr:last-of-type th {\n        text-align: right;\n    }\n</style>\n<table border=\"1\" class=\"dataframe\">\n  <thead>\n    <tr>\n      <th>IS_AUTOIMMUNE</th>\n      <th colspan=\"3\" halign=\"left\">False</th>\n      <th colspan=\"3\" halign=\"left\">True</th>\n    </tr>\n    <tr>\n      <th>SEX</th>\n      <th>F</th>\n      <th>M</th>\n      <th>U</th>\n      <th>F</th>\n      <th>M</th>\n      <th>U</th>\n    </tr>\n    <tr>\n      <th>IS_COVID_VACCINE</th>\n      <th></th>\n      <th></th>\n      <th></th>\n      <th></th>\n      <th></th>\n      <th></th>\n    </tr>\n  </thead>\n  <tbody>\n    <tr>\n      <th>False</th>\n      <td>140711</td>\n      <td>54686</td>\n      <td>1273</td>\n      <td>1717</td>\n      <td>1283</td>\n      <td>9</td>\n    </tr>\n    <tr>\n      <th>True</th>\n      <td>250634</td>\n      <td>95327</td>\n      <td>1563</td>\n      <td>923</td>\n      <td>530</td>\n      <td>5</td>\n    </tr>\n  </tbody>\n</table>\n</div>"
     },
     "execution_count": 169,
     "metadata": {},
     "output_type": "execute_result"
    }
   ],
   "source": [
    "xt_by_gender = pd.DataFrame(pd.crosstab(counts_by_gender.IS_COVID_VACCINE, [counts_by_gender.IS_AUTOIMMUNE, counts_by_gender.SEX]))\n",
    "\n",
    "xt_by_gender"
   ],
   "metadata": {
    "collapsed": false,
    "pycharm": {
     "name": "#%%\n"
    }
   }
  },
  {
   "cell_type": "code",
   "execution_count": 170,
   "outputs": [
    {
     "data": {
      "text/plain": "        ROR        SE 95CI_lower 95CI_upper\nF    0.3018   0.04095   0.278523   0.327022\nM  0.236979  0.051913   0.214052   0.262361\nU  0.452477   0.55905    0.15126   1.353535",
      "text/html": "<div>\n<style scoped>\n    .dataframe tbody tr th:only-of-type {\n        vertical-align: middle;\n    }\n\n    .dataframe tbody tr th {\n        vertical-align: top;\n    }\n\n    .dataframe thead th {\n        text-align: right;\n    }\n</style>\n<table border=\"1\" class=\"dataframe\">\n  <thead>\n    <tr style=\"text-align: right;\">\n      <th></th>\n      <th>ROR</th>\n      <th>SE</th>\n      <th>95CI_lower</th>\n      <th>95CI_upper</th>\n    </tr>\n  </thead>\n  <tbody>\n    <tr>\n      <th>F</th>\n      <td>0.3018</td>\n      <td>0.04095</td>\n      <td>0.278523</td>\n      <td>0.327022</td>\n    </tr>\n    <tr>\n      <th>M</th>\n      <td>0.236979</td>\n      <td>0.051913</td>\n      <td>0.214052</td>\n      <td>0.262361</td>\n    </tr>\n    <tr>\n      <th>U</th>\n      <td>0.452477</td>\n      <td>0.55905</td>\n      <td>0.15126</td>\n      <td>1.353535</td>\n    </tr>\n  </tbody>\n</table>\n</div>"
     },
     "execution_count": 170,
     "metadata": {},
     "output_type": "execute_result"
    }
   ],
   "source": [
    "odds_ratios_by_gender = pd.DataFrame(index=list(set([i[1] for i in xt_by_gender.columns])),\n",
    "                                     columns=(\"ROR\", \"SE\", \"95CI_lower\", \"95CI_upper\"))\n",
    "\n",
    "for gender in odds_ratios_by_gender.index:\n",
    "    a = xt_by_gender[True][gender][True]\n",
    "    b = xt_by_gender[False][gender][True]\n",
    "    c = xt_by_gender[True][gender][False]\n",
    "    d = xt_by_gender[False][gender][False]\n",
    "\n",
    "    OR = (a * d) / (c * b) if c * b > 0 else np.nan\n",
    "    SE = np.sqrt((1/a if a > 0 else 0) + (1/b if b > 0 else 0) + (1/c if c > 0 else 0) + (1/d if d > 0 else 0))\n",
    "\n",
    "    odds_ratios_by_gender.loc[gender, \"ROR\"] = OR\n",
    "    odds_ratios_by_gender.loc[gender, \"SE\"] = SE\n",
    "    odds_ratios_by_gender.loc[gender, \"95CI_upper\"] = np.e ** (np.log(OR) + 1.96 * SE)\n",
    "    odds_ratios_by_gender.loc[gender, \"95CI_lower\"] = np.e ** (np.log(OR) - 1.96 * SE)\n",
    "\n",
    "odds_ratios_by_gender"
   ],
   "metadata": {
    "collapsed": false,
    "pycharm": {
     "name": "#%%\n"
    }
   }
  },
  {
   "cell_type": "code",
   "execution_count": 171,
   "outputs": [
    {
     "data": {
      "text/plain": "IS_AUTOIMMUNE     False                                    True              \\\nAGE                 <18  18-25  26-40  41-55  56-70    >70  <18 18-25 26-40   \nIS_COVID_VACCINE                                                              \nFalse             14308  17582  41307  45011  54634  23828   98   268   735   \nTrue              14795  28320  90529  91334  83701  38845   18    59   269   \n\nIS_AUTOIMMUNE                      \nAGE              41-55 56-70  >70  \nIS_COVID_VACCINE                   \nFalse              848   736  324  \nTrue               366   479  267  ",
      "text/html": "<div>\n<style scoped>\n    .dataframe tbody tr th:only-of-type {\n        vertical-align: middle;\n    }\n\n    .dataframe tbody tr th {\n        vertical-align: top;\n    }\n\n    .dataframe thead tr th {\n        text-align: left;\n    }\n\n    .dataframe thead tr:last-of-type th {\n        text-align: right;\n    }\n</style>\n<table border=\"1\" class=\"dataframe\">\n  <thead>\n    <tr>\n      <th>IS_AUTOIMMUNE</th>\n      <th colspan=\"6\" halign=\"left\">False</th>\n      <th colspan=\"6\" halign=\"left\">True</th>\n    </tr>\n    <tr>\n      <th>AGE</th>\n      <th>&lt;18</th>\n      <th>18-25</th>\n      <th>26-40</th>\n      <th>41-55</th>\n      <th>56-70</th>\n      <th>&gt;70</th>\n      <th>&lt;18</th>\n      <th>18-25</th>\n      <th>26-40</th>\n      <th>41-55</th>\n      <th>56-70</th>\n      <th>&gt;70</th>\n    </tr>\n    <tr>\n      <th>IS_COVID_VACCINE</th>\n      <th></th>\n      <th></th>\n      <th></th>\n      <th></th>\n      <th></th>\n      <th></th>\n      <th></th>\n      <th></th>\n      <th></th>\n      <th></th>\n      <th></th>\n      <th></th>\n    </tr>\n  </thead>\n  <tbody>\n    <tr>\n      <th>False</th>\n      <td>14308</td>\n      <td>17582</td>\n      <td>41307</td>\n      <td>45011</td>\n      <td>54634</td>\n      <td>23828</td>\n      <td>98</td>\n      <td>268</td>\n      <td>735</td>\n      <td>848</td>\n      <td>736</td>\n      <td>324</td>\n    </tr>\n    <tr>\n      <th>True</th>\n      <td>14795</td>\n      <td>28320</td>\n      <td>90529</td>\n      <td>91334</td>\n      <td>83701</td>\n      <td>38845</td>\n      <td>18</td>\n      <td>59</td>\n      <td>269</td>\n      <td>366</td>\n      <td>479</td>\n      <td>267</td>\n    </tr>\n  </tbody>\n</table>\n</div>"
     },
     "execution_count": 171,
     "metadata": {},
     "output_type": "execute_result"
    }
   ],
   "source": [
    "\n",
    "xt_by_age_group = pd.DataFrame(pd.crosstab(counts_by_age_group.IS_COVID_VACCINE, [counts_by_age_group.IS_AUTOIMMUNE, counts_by_age_group.AGE]))\n",
    "\n",
    "xt_by_age_group"
   ],
   "metadata": {
    "collapsed": false,
    "pycharm": {
     "name": "#%%\n"
    }
   }
  },
  {
   "cell_type": "code",
   "execution_count": 172,
   "outputs": [
    {
     "data": {
      "text/plain": "            ROR        SE 95CI_lower 95CI_upper\n26-40  0.166994  0.071507   0.145155   0.192118\n18-25  0.136676  0.144127   0.103041   0.181291\n>70    0.505497  0.083063    0.42955   0.594872\n56-70  0.424805  0.058963   0.378442   0.476848\n<18    0.177628  0.256704   0.107399    0.29378\n41-55  0.212702  0.062806   0.188066   0.240566",
      "text/html": "<div>\n<style scoped>\n    .dataframe tbody tr th:only-of-type {\n        vertical-align: middle;\n    }\n\n    .dataframe tbody tr th {\n        vertical-align: top;\n    }\n\n    .dataframe thead th {\n        text-align: right;\n    }\n</style>\n<table border=\"1\" class=\"dataframe\">\n  <thead>\n    <tr style=\"text-align: right;\">\n      <th></th>\n      <th>ROR</th>\n      <th>SE</th>\n      <th>95CI_lower</th>\n      <th>95CI_upper</th>\n    </tr>\n  </thead>\n  <tbody>\n    <tr>\n      <th>26-40</th>\n      <td>0.166994</td>\n      <td>0.071507</td>\n      <td>0.145155</td>\n      <td>0.192118</td>\n    </tr>\n    <tr>\n      <th>18-25</th>\n      <td>0.136676</td>\n      <td>0.144127</td>\n      <td>0.103041</td>\n      <td>0.181291</td>\n    </tr>\n    <tr>\n      <th>&gt;70</th>\n      <td>0.505497</td>\n      <td>0.083063</td>\n      <td>0.42955</td>\n      <td>0.594872</td>\n    </tr>\n    <tr>\n      <th>56-70</th>\n      <td>0.424805</td>\n      <td>0.058963</td>\n      <td>0.378442</td>\n      <td>0.476848</td>\n    </tr>\n    <tr>\n      <th>&lt;18</th>\n      <td>0.177628</td>\n      <td>0.256704</td>\n      <td>0.107399</td>\n      <td>0.29378</td>\n    </tr>\n    <tr>\n      <th>41-55</th>\n      <td>0.212702</td>\n      <td>0.062806</td>\n      <td>0.188066</td>\n      <td>0.240566</td>\n    </tr>\n  </tbody>\n</table>\n</div>"
     },
     "execution_count": 172,
     "metadata": {},
     "output_type": "execute_result"
    }
   ],
   "source": [
    "odds_ratios_by_age_group = pd.DataFrame(index=list(set([i[1] for i in xt_by_age_group.columns])),\n",
    "                                     columns=(\"ROR\", \"SE\", \"95CI_lower\", \"95CI_upper\"))\n",
    "\n",
    "for gender in odds_ratios_by_age_group.index:\n",
    "    a = xt_by_age_group[True][gender][True]\n",
    "    b = xt_by_age_group[False][gender][True]\n",
    "    c = xt_by_age_group[True][gender][False]\n",
    "    d = xt_by_age_group[False][gender][False]\n",
    "\n",
    "    OR = (a * d) / (c * b) if c * b > 0 else np.nan\n",
    "    SE = np.sqrt((1/a if a > 0 else 0) + (1/b if b > 0 else 0) + (1/c if c > 0 else 0) + (1/d if d > 0 else 0))\n",
    "\n",
    "    odds_ratios_by_age_group.loc[gender, \"ROR\"] = OR\n",
    "    odds_ratios_by_age_group.loc[gender, \"SE\"] = SE\n",
    "    odds_ratios_by_age_group.loc[gender, \"95CI_upper\"] = np.e ** (np.log(OR) + 1.96 * SE)\n",
    "    odds_ratios_by_age_group.loc[gender, \"95CI_lower\"] = np.e ** (np.log(OR) - 1.96 * SE)\n",
    "\n",
    "odds_ratios_by_age_group"
   ],
   "metadata": {
    "collapsed": false,
    "pycharm": {
     "name": "#%%\n"
    }
   }
  },
  {
   "cell_type": "markdown",
   "source": [
    "## Visualizing the results"
   ],
   "metadata": {
    "collapsed": false,
    "pycharm": {
     "name": "#%% md\n"
    }
   }
  },
  {
   "cell_type": "markdown",
   "source": [
    "### ROR by condition, top and bottoms\n"
   ],
   "metadata": {
    "collapsed": false,
    "pycharm": {
     "name": "#%% md\n"
    }
   }
  },
  {
   "cell_type": "code",
   "execution_count": 173,
   "outputs": [],
   "source": [
    "odds_ratios = odds_ratios.apply(pd.to_numeric)[odds_ratios.ROR > 0].rename({\n",
    "    \"Neuromyelitis optica spectrum disorder\": \"NMO spectrum disorder\",\n",
    "    \"Paediatric autoimmune neuropsychiatric disorders associated with streptococcal infection\": \"PANDAS\",\n",
    "    \"Chronic inflammatory demyelinating polyradiculoneuropathy\": \"CIDP\"\n",
    "})\n",
    "size_index = odds_ratios[odds_ratios.ROR > 0].groupby(\"SYMPTOM\")[\"ROR\"].nlargest().index\n",
    "\n",
    "fringe_odds_ratios = odds_ratios.loc[size_index[:10], :].append(odds_ratios.loc[size_index[-10:], :]).sort_values(by=\"ROR\", ascending=False)"
   ],
   "metadata": {
    "collapsed": false,
    "pycharm": {
     "name": "#%%\n"
    }
   }
  },
  {
   "cell_type": "code",
   "execution_count": 246,
   "outputs": [
    {
     "data": {
      "text/plain": "<Figure size 576x936 with 1 Axes>",
      "image/png": "[encoded data removed]"
     },
     "metadata": {
      "needs_background": "light"
     },
     "output_type": "display_data"
    }
   ],
   "source": [
    "odds_ratios = odds_ratios[odds_ratios[\"95CI_lower\"] > 0.1]\n",
    "\n",
    "fig, ax = plt.subplots(figsize=(8, 13))\n",
    "\n",
    "ax.scatter(odds_ratios.ROR, odds_ratios.index, marker=\"D\", color=\"k\")\n",
    "\n",
    "ax.vlines(x=1, ymin=-4.5, ymax=len(odds_ratios.index), colors=\"k\")\n",
    "ax.vlines(x=2, ymin=-1, ymax=len(odds_ratios.index), colors=\"k\", linestyles=\"--\")\n",
    "\n",
    "for idx, val in enumerate(odds_ratios.index):\n",
    "    ax.hlines(y=idx, xmin=odds_ratios.loc[val, \"95CI_lower\"], xmax=odds_ratios.loc[val, \"95CI_upper\"], color=\"k\")\n",
    "    ax.text(y = idx + 0.3, x = odds_ratios.loc[val, \"ROR\"], s = f\"{odds_ratios.loc[val, 'ROR']:.2f}\", horizontalalignment=\"center\", fontsize=\"x-small\")\n",
    "\n",
    "ax.set_xscale(\"log\")\n",
    "ax.set_xlim(1e-1, 5e0)\n",
    "\n",
    "ax.spines.left.set_position((\"axes\", 0.0))\n",
    "ax.spines.right.set_color(\"none\")\n",
    "ax.spines.bottom.set_position((\"axes\", 0.12))\n",
    "ax.spines.top.set_color(\"none\")\n",
    "ax.xaxis.set_ticks_position(\"bottom\")\n",
    "ax.yaxis.set_ticks_position(\"left\")\n",
    "\n",
    "\n",
    "ax.text(2e-1, -3.55, \"Favours COVID-19 vaccine\")\n",
    "ax.text(1 + 3e-1, -3.55, \"Favours control\")\n",
    "\n",
    "ax.scatter(odds_ratios[odds_ratios.ROR >= 2].ROR, odds_ratios[odds_ratios.ROR >= 2].index, marker=\"D\", color=\"r\")\n",
    "ax.set_xticks([0.25, 0.5, 0.75, 2, 3, 4])\n",
    "ax.set_xticklabels([0.25, 0.5, 0.75, 2, 3, 4])\n",
    "plt.show()\n"
   ],
   "metadata": {
    "collapsed": false,
    "pycharm": {
     "name": "#%%\n"
    }
   }
  }
 ],
 "metadata": {
  "kernelspec": {
   "display_name": "Python 3",
   "language": "python",
   "name": "python3"
  },
  "language_info": {
   "codemirror_mode": {
    "name": "ipython",
    "version": 2
   },
   "file_extension": ".py",
   "mimetype": "text/x-python",
   "name": "python",
   "nbconvert_exporter": "python",
   "pygments_lexer": "ipython2",
   "version": "2.7.6"
  }
 },
 "nbformat": 4,
 "nbformat_minor": 0
}