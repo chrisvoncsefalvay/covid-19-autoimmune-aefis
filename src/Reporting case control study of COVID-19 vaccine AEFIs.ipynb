{
 "cells": [
  {
   "cell_type": "markdown",
   "metadata": {
    "collapsed": true,
    "pycharm": {
     "name": "#%% md\n"
    }
   },
   "source": [
    "# A Reporting Case-Control Study of AEFIs Following the COVID-19 Vaccine Reported to VAERS\n",
    "\n",
    "_Chris von Csefalvay_\n",
    "\n",
    "_04 July 2021_"
   ]
  },
  {
   "cell_type": "markdown",
   "source": [
    "## Analysis plan\n",
    "\n",
    "1. Import VAERS data from 2015 onwards, to give a sufficient number of records.\n",
    "2. We filter out unknown ages and genders.\n",
    "3. We then bracket age groups: <18, 18-25, 26-35, 36-45, 46-55, 56-65, 66-75, 76-85, 85+\n",
    "4. We use `pymatch` to create a matched set of controls by:\n",
    "    * age band\n",
    "    * gender\n",
    "5. We drop all events that have fewer than 100 occurrences.\n",
    "6. We filter for autoimmune aetiologies.\n",
    "7. Finally, we calculate the reporting odds ratios of all symptoms."
   ],
   "metadata": {
    "collapsed": false,
    "pycharm": {
     "name": "#%% md\n"
    }
   }
  },
  {
   "cell_type": "code",
   "execution_count": 37,
   "outputs": [
    {
     "name": "stdout",
     "output_type": "stream",
     "text": [
      "pandas version: 1.3.0\n",
      "numpy version: 1.21.0\n",
      "statsmodels version: 0.12.2\n"
     ]
    }
   ],
   "source": [
    "import statsmodels\n",
    "import statsmodels.api as sm\n",
    "import matplotlib.pyplot as plt\n",
    "import seaborn as sns\n",
    "import pandas as pd\n",
    "import numpy as np\n",
    "from pymatch.Matcher import Matcher\n",
    "import sys, re, os, glob\n",
    "from tqdm.autonotebook import tqdm\n",
    "\n",
    "tqdm.pandas()\n",
    "\n",
    "import warnings\n",
    "warnings.filterwarnings('ignore')\n",
    "\n",
    "%matplotlib inline\n",
    "\n",
    "# Fixed seed for reproducibility\n",
    "np.random.seed(4072021)\n",
    "\n",
    "print(f\"pandas version: {pd.__version__}\")\n",
    "print(f\"numpy version: {np.__version__}\")\n",
    "print(f\"statsmodels version: {statsmodels.__version__}\")"
   ],
   "metadata": {
    "collapsed": false,
    "pycharm": {
     "name": "#%%\n"
    }
   }
  },
  {
   "cell_type": "markdown",
   "source": [
    "## Analysis"
   ],
   "metadata": {
    "collapsed": false,
    "pycharm": {
     "name": "#%% md\n"
    }
   }
  },
  {
   "cell_type": "markdown",
   "source": [
    "### Loading VAERS data\n",
    "\n",
    "Note: for legal reasons, we cannot reproduce the raw VAERS data in Github. However, you can download the VAERS data set\n",
    "from [HHS](https://vaers.hhs.gov)."
   ],
   "metadata": {
    "collapsed": false,
    "pycharm": {
     "name": "#%% md\n"
    }
   }
  },
  {
   "cell_type": "code",
   "execution_count": 38,
   "outputs": [
    {
     "data": {
      "text/plain": "  0%|          | 0/27 [00:00<?, ?it/s]",
      "application/vnd.jupyter.widget-view+json": {
       "version_major": 2,
       "version_minor": 0,
       "model_id": "7555898faf22463d9a87628d8fb627d9"
      }
     },
     "metadata": {},
     "output_type": "display_data"
    },
    {
     "name": "stdout",
     "output_type": "stream",
     "text": [
      "CPU times: user 1.4 s, sys: 357 ms, total: 1.76 s\n",
      "Wall time: 1.91 s\n"
     ]
    }
   ],
   "source": [
    "%%time\n",
    "\n",
    "path = \"../data/\" # use your path\n",
    "vaccine_files = glob.glob(path + \"*VAERSVAX.csv\")\n",
    "\n",
    "vax_frames = []\n",
    "\n",
    "for filename in tqdm(vaccine_files):\n",
    "    df = pd.read_csv(filename, index_col=None, header=0, encoding=\"latin\")\n",
    "    vax_frames.append(df)\n",
    "\n",
    "vax = pd.concat(vax_frames, axis=0, ignore_index=True)[[\"VAERS_ID\", \"VAX_TYPE\"]]\n",
    "vax[\"VAX_TYPE\"] = vax[\"VAX_TYPE\"] == \"COVID19\"\n",
    "vax.columns = [\"VAERS_ID\", \"IS_COVID_VACCINE\"]"
   ],
   "metadata": {
    "collapsed": false,
    "pycharm": {
     "name": "#%%\n"
    }
   }
  },
  {
   "cell_type": "code",
   "execution_count": 39,
   "outputs": [
    {
     "data": {
      "text/plain": "  0%|          | 0/27 [00:00<?, ?it/s]",
      "application/vnd.jupyter.widget-view+json": {
       "version_major": 2,
       "version_minor": 0,
       "model_id": "e2081e8b588b41e193b12dde03c63bac"
      }
     },
     "metadata": {},
     "output_type": "display_data"
    },
    {
     "name": "stdout",
     "output_type": "stream",
     "text": [
      "CPU times: user 9.16 s, sys: 1.99 s, total: 11.1 s\n",
      "Wall time: 11.3 s\n"
     ]
    }
   ],
   "source": [
    "%%time\n",
    "\n",
    "recipient_files = glob.glob(path + \"*VAERSDATA.csv\")\n",
    "\n",
    "recipient_frames = []\n",
    "\n",
    "for filename in tqdm(recipient_files):\n",
    "    df = pd.read_csv(filename, index_col=None, header=0, encoding=\"latin\")\n",
    "    recipient_frames.append(df)\n",
    "\n",
    "recipients = pd.concat(recipient_frames, axis=0, ignore_index=True)[[\"VAERS_ID\", \"SEX\", \"CAGE_YR\"]]"
   ],
   "metadata": {
    "collapsed": false,
    "pycharm": {
     "name": "#%%\n"
    }
   }
  },
  {
   "cell_type": "markdown",
   "source": [
    "We age-band recipients by specifying the left margin of each age band."
   ],
   "metadata": {
    "collapsed": false,
    "pycharm": {
     "name": "#%% md\n"
    }
   }
  },
  {
   "cell_type": "code",
   "execution_count": 40,
   "outputs": [
    {
     "name": "stdout",
     "output_type": "stream",
     "text": [
      "CPU times: user 127 ms, sys: 27 ms, total: 154 ms\n",
      "Wall time: 152 ms\n"
     ]
    }
   ],
   "source": [
    "%%time\n",
    "\n",
    "age_bands = {0: \"<18\",\n",
    "             18: \"18-25\",\n",
    "             26: \"26-40\",\n",
    "             41: \"41-55\",\n",
    "             56: \"56-70\",\n",
    "             71: \">70\",\n",
    "             int(recipients.CAGE_YR.max()): \"max\"}\n",
    "\n",
    "recipients[\"AGE\"] = pd.cut(recipients.CAGE_YR, bins=list(age_bands.keys()), labels=list(age_bands.values())[:-1])\n",
    "recipients = recipients.drop(\"CAGE_YR\", axis=1).dropna()"
   ],
   "metadata": {
    "collapsed": false,
    "pycharm": {
     "name": "#%%\n"
    }
   }
  },
  {
   "cell_type": "code",
   "execution_count": 41,
   "outputs": [
    {
     "data": {
      "text/plain": "  0%|          | 0/27 [00:00<?, ?it/s]",
      "application/vnd.jupyter.widget-view+json": {
       "version_major": 2,
       "version_minor": 0,
       "model_id": "25b9bd42943c4588bb16ba74d0375f1b"
      }
     },
     "metadata": {},
     "output_type": "display_data"
    },
    {
     "name": "stdout",
     "output_type": "stream",
     "text": [
      "CPU times: user 1.88 s, sys: 657 ms, total: 2.54 s\n",
      "Wall time: 2.55 s\n"
     ]
    }
   ],
   "source": [
    "%%time\n",
    "\n",
    "symptoms_files = glob.glob(path + \"*VAERSSYMPTOMS.csv\")\n",
    "\n",
    "symptoms_frames = []\n",
    "\n",
    "for filename in tqdm(symptoms_files):\n",
    "    df = pd.read_csv(filename, index_col=None, header=0)\n",
    "    symptoms_frames.append(df)\n",
    "\n",
    "\n",
    "symptoms = pd.melt(pd.concat(symptoms_frames, axis=0, ignore_index=True)[[\"VAERS_ID\", \"SYMPTOM1\", \"SYMPTOM2\", \"SYMPTOM3\", \"SYMPTOM4\", \"SYMPTOM5\"]],\n",
    "               id_vars=\"VAERS_ID\",\n",
    "               value_vars=(f\"SYMPTOM{i}\" for i in range(1, 6))).drop(\"variable\", axis=1)\n",
    "\n",
    "symptoms.columns = (\"VAERS_ID\", \"SYMPTOM\")"
   ],
   "metadata": {
    "collapsed": false,
    "pycharm": {
     "name": "#%%\n"
    }
   }
  },
  {
   "cell_type": "code",
   "execution_count": 42,
   "outputs": [
    {
     "name": "stdout",
     "output_type": "stream",
     "text": [
      "CPU times: user 205 ms, sys: 117 ms, total: 322 ms\n",
      "Wall time: 320 ms\n"
     ]
    }
   ],
   "source": [
    "%%time\n",
    "\n",
    "vaccination_data = vax.merge(recipients, how=\"inner\", on=\"VAERS_ID\")"
   ],
   "metadata": {
    "collapsed": false,
    "pycharm": {
     "name": "#%%\n"
    }
   }
  },
  {
   "cell_type": "code",
   "execution_count": 43,
   "outputs": [
    {
     "name": "stdout",
     "output_type": "stream",
     "text": [
      "Retrieved 1057678 rows.\n",
      "Breakdown:\n",
      "* COVID-19: 417186\n",
      "* Non-COVID-19: 1004170\n",
      " => Gearing: 2.41\n"
     ]
    }
   ],
   "source": [
    "print(f\"Retrieved {vaccination_data.shape[0]} rows.\")\n",
    "print(f\"Breakdown:\")\n",
    "print(f\"* COVID-19: {vax[vax.IS_COVID_VACCINE == True][['VAERS_ID']].count().values[0]}\")\n",
    "print(f\"* Non-COVID-19: {vax[vax.IS_COVID_VACCINE == False][['VAERS_ID']].count().values[0]}\")\n",
    "print(f\" => Gearing: {vax[vax.IS_COVID_VACCINE == False][['VAERS_ID']].count().values[0]/vax[vax.IS_COVID_VACCINE == True][['VAERS_ID']].count().values[0]:.2f}\")"
   ],
   "metadata": {
    "collapsed": false,
    "pycharm": {
     "name": "#%%\n"
    }
   }
  },
  {
   "cell_type": "code",
   "execution_count": 44,
   "outputs": [
    {
     "name": "stdout",
     "output_type": "stream",
     "text": [
      "CPU times: user 352 ms, sys: 140 ms, total: 491 ms\n",
      "Wall time: 490 ms\n"
     ]
    }
   ],
   "source": [
    "%%time\n",
    "\n",
    "case = vax[vax.IS_COVID_VACCINE == True].merge(recipients, how=\"inner\").sample(frac=0.05)\n",
    "control = vax[vax.IS_COVID_VACCINE == False].merge(recipients, how=\"inner\").sample(frac=0.05)\n",
    "\n",
    "# Numeric conversion of t/f to make it work with pymatch\n",
    "case[\"IS_COVID_VACCINE\"] = 1\n",
    "control[\"IS_COVID_VACCINE\"] = 0"
   ],
   "metadata": {
    "collapsed": false,
    "pycharm": {
     "name": "#%%\n"
    }
   }
  },
  {
   "cell_type": "markdown",
   "source": [
    "### Match cases and controls"
   ],
   "metadata": {
    "collapsed": false,
    "pycharm": {
     "name": "#%% md\n"
    }
   }
  },
  {
   "cell_type": "code",
   "execution_count": 45,
   "outputs": [
    {
     "name": "stdout",
     "output_type": "stream",
     "text": [
      "Formula:\n",
      "IS_COVID_VACCINE ~ SEX+AGE\n",
      "n majority: 34823\n",
      "n minority: 18061\n"
     ]
    }
   ],
   "source": [
    "m = Matcher(case, control, yvar=\"IS_COVID_VACCINE\", exclude=[\"VAERS_ID\"])"
   ],
   "metadata": {
    "collapsed": false,
    "pycharm": {
     "name": "#%%\n"
    }
   }
  },
  {
   "cell_type": "code",
   "execution_count": 46,
   "outputs": [
    {
     "name": "stdout",
     "output_type": "stream",
     "text": [
      "Fitting Models on Balanced Samples: 100\\100\n",
      "Average Accuracy: 73.87%\n",
      "CPU times: user 1min, sys: 8.73 s, total: 1min 9s\n",
      "Wall time: 22.2 s\n"
     ]
    }
   ],
   "source": [
    "%%time\n",
    "\n",
    "m.fit_scores(balance=True, nmodels=100)"
   ],
   "metadata": {
    "collapsed": false,
    "pycharm": {
     "name": "#%%\n"
    }
   }
  },
  {
   "cell_type": "code",
   "execution_count": 47,
   "outputs": [
    {
     "name": "stdout",
     "output_type": "stream",
     "text": [
      "CPU times: user 683 ms, sys: 98.6 ms, total: 782 ms\n",
      "Wall time: 197 ms\n"
     ]
    }
   ],
   "source": [
    "%%time\n",
    "\n",
    "m.predict_scores()"
   ],
   "metadata": {
    "collapsed": false,
    "pycharm": {
     "name": "#%%\n"
    }
   }
  },
  {
   "cell_type": "code",
   "execution_count": 48,
   "outputs": [
    {
     "data": {
      "text/plain": "<Figure size 720x360 with 1 Axes>",
      "image/png": "[encoded data removed]"
     },
     "metadata": {
      "needs_background": "light"
     },
     "output_type": "display_data"
    }
   ],
   "source": [
    "m.plot_scores()"
   ],
   "metadata": {
    "collapsed": false,
    "pycharm": {
     "name": "#%%\n"
    }
   }
  },
  {
   "cell_type": "code",
   "execution_count": 49,
   "outputs": [
    {
     "name": "stdout",
     "output_type": "stream",
     "text": [
      "CPU times: user 23.7 s, sys: 218 ms, total: 23.9 s\n",
      "Wall time: 24 s\n"
     ]
    }
   ],
   "source": [
    "%%time\n",
    "\n",
    "m.match(method=\"random\", nmatches=1)"
   ],
   "metadata": {
    "collapsed": false,
    "pycharm": {
     "name": "#%%\n"
    }
   }
  },
  {
   "cell_type": "code",
   "execution_count": 50,
   "outputs": [
    {
     "name": "stdout",
     "output_type": "stream",
     "text": [
      "CPU times: user 12.8 ms, sys: 3.52 ms, total: 16.3 ms\n",
      "Wall time: 15.4 ms\n"
     ]
    },
    {
     "data": {
      "text/plain": "   freq  n_records\n0     1      24810\n1     2       2982\n2     3       1146\n3     4        328\n4     5         87\n5     6         20\n6     7          5\n7     8          1",
      "text/html": "<div>\n<style scoped>\n    .dataframe tbody tr th:only-of-type {\n        vertical-align: middle;\n    }\n\n    .dataframe tbody tr th {\n        vertical-align: top;\n    }\n\n    .dataframe thead th {\n        text-align: right;\n    }\n</style>\n<table border=\"1\" class=\"dataframe\">\n  <thead>\n    <tr style=\"text-align: right;\">\n      <th></th>\n      <th>freq</th>\n      <th>n_records</th>\n    </tr>\n  </thead>\n  <tbody>\n    <tr>\n      <th>0</th>\n      <td>1</td>\n      <td>24810</td>\n    </tr>\n    <tr>\n      <th>1</th>\n      <td>2</td>\n      <td>2982</td>\n    </tr>\n    <tr>\n      <th>2</th>\n      <td>3</td>\n      <td>1146</td>\n    </tr>\n    <tr>\n      <th>3</th>\n      <td>4</td>\n      <td>328</td>\n    </tr>\n    <tr>\n      <th>4</th>\n      <td>5</td>\n      <td>87</td>\n    </tr>\n    <tr>\n      <th>5</th>\n      <td>6</td>\n      <td>20</td>\n    </tr>\n    <tr>\n      <th>6</th>\n      <td>7</td>\n      <td>5</td>\n    </tr>\n    <tr>\n      <th>7</th>\n      <td>8</td>\n      <td>1</td>\n    </tr>\n  </tbody>\n</table>\n</div>"
     },
     "execution_count": 50,
     "metadata": {},
     "output_type": "execute_result"
    }
   ],
   "source": [
    "%%time\n",
    "\n",
    "m.record_frequency()"
   ],
   "metadata": {
    "collapsed": false,
    "pycharm": {
     "name": "#%%\n"
    }
   }
  },
  {
   "cell_type": "code",
   "execution_count": 51,
   "outputs": [
    {
     "name": "stdout",
     "output_type": "stream",
     "text": [
      "CPU times: user 19.3 ms, sys: 3.2 ms, total: 22.5 ms\n",
      "Wall time: 21.1 ms\n"
     ]
    }
   ],
   "source": [
    "%%time\n",
    "\n",
    "m.assign_weight_vector()"
   ],
   "metadata": {
    "collapsed": false,
    "pycharm": {
     "name": "#%%\n"
    }
   }
  },
  {
   "cell_type": "code",
   "execution_count": 52,
   "outputs": [
    {
     "data": {
      "text/plain": "       record_id    weight  VAERS_ID  IS_COVID_VACCINE SEX    AGE    scores  \\\n0              0  1.000000   1404809                 1   F  41-55  0.719643   \n21848      25373  0.333333    455293                 0   F  41-55  0.719643   \n1              1  1.000000   1002664                 1   F  26-40  0.739055   \n26209      33824  1.000000    690877                 0   F  26-40  0.739055   \n2              2  1.000000   1267115                 1   M  26-40  0.731925   \n31172      43381  0.500000    556102                 0   M  26-40  0.731925   \n\n       match_id  \n0             0  \n21848         0  \n1             1  \n26209         1  \n2             2  \n31172         2  ",
      "text/html": "<div>\n<style scoped>\n    .dataframe tbody tr th:only-of-type {\n        vertical-align: middle;\n    }\n\n    .dataframe tbody tr th {\n        vertical-align: top;\n    }\n\n    .dataframe thead th {\n        text-align: right;\n    }\n</style>\n<table border=\"1\" class=\"dataframe\">\n  <thead>\n    <tr style=\"text-align: right;\">\n      <th></th>\n      <th>record_id</th>\n      <th>weight</th>\n      <th>VAERS_ID</th>\n      <th>IS_COVID_VACCINE</th>\n      <th>SEX</th>\n      <th>AGE</th>\n      <th>scores</th>\n      <th>match_id</th>\n    </tr>\n  </thead>\n  <tbody>\n    <tr>\n      <th>0</th>\n      <td>0</td>\n      <td>1.000000</td>\n      <td>1404809</td>\n      <td>1</td>\n      <td>F</td>\n      <td>41-55</td>\n      <td>0.719643</td>\n      <td>0</td>\n    </tr>\n    <tr>\n      <th>21848</th>\n      <td>25373</td>\n      <td>0.333333</td>\n      <td>455293</td>\n      <td>0</td>\n      <td>F</td>\n      <td>41-55</td>\n      <td>0.719643</td>\n      <td>0</td>\n    </tr>\n    <tr>\n      <th>1</th>\n      <td>1</td>\n      <td>1.000000</td>\n      <td>1002664</td>\n      <td>1</td>\n      <td>F</td>\n      <td>26-40</td>\n      <td>0.739055</td>\n      <td>1</td>\n    </tr>\n    <tr>\n      <th>26209</th>\n      <td>33824</td>\n      <td>1.000000</td>\n      <td>690877</td>\n      <td>0</td>\n      <td>F</td>\n      <td>26-40</td>\n      <td>0.739055</td>\n      <td>1</td>\n    </tr>\n    <tr>\n      <th>2</th>\n      <td>2</td>\n      <td>1.000000</td>\n      <td>1267115</td>\n      <td>1</td>\n      <td>M</td>\n      <td>26-40</td>\n      <td>0.731925</td>\n      <td>2</td>\n    </tr>\n    <tr>\n      <th>31172</th>\n      <td>43381</td>\n      <td>0.500000</td>\n      <td>556102</td>\n      <td>0</td>\n      <td>M</td>\n      <td>26-40</td>\n      <td>0.731925</td>\n      <td>2</td>\n    </tr>\n  </tbody>\n</table>\n</div>"
     },
     "execution_count": 52,
     "metadata": {},
     "output_type": "execute_result"
    }
   ],
   "source": [
    "m.matched_data.sort_values(\"match_id\").head(6)"
   ],
   "metadata": {
    "collapsed": false,
    "pycharm": {
     "name": "#%%\n"
    }
   }
  },
  {
   "cell_type": "code",
   "execution_count": 66,
   "outputs": [],
   "source": [
    "matched_up_symptoms = pd.DataFrame(m.matched_data.VAERS_ID).merge(vax, how=\"inner\").merge(symptoms.dropna(), how=\"inner\").drop_duplicates()"
   ],
   "metadata": {
    "collapsed": false,
    "pycharm": {
     "name": "#%%\n"
    }
   }
  },
  {
   "cell_type": "code",
   "execution_count": 83,
   "outputs": [],
   "source": [
    "p_normals = r\".*negative$|.*\\snormal$|.*(scopy|graphy|gram|metry|opsy)$|.*(count|percentage|level|test|assay|culture|X-ray|imaging|gradient|band(s)?|index|surface area|gas|scale|antibod(y|ies)|urine absent|Carotid pulse|partial pressure|time|P(C)?O2)$|Oxygen saturation$|End-tidal.*\"\n",
    "p_tests = r\".*(ase|ose|ine|enzyme|in|ine|ines|ium|ol|ole|ate|lytes|ogen|gases|oids|ide|one|an|copper|iron)$|.*(level therapeutic)$|.*(globulin)\\s.{1,2}$|Barium (swallow|enema)\"\n",
    "p_procedures = r\".*(plasty|insertion|tomy|ery|puncture|therapy|treatment|tripsy|operation|repair|procedure|bypass|insertion|removal|graft|closure|implant|lavage|support|transplant|match|bridement|application|ablation)$|Incisional drainage$|.* stimulation$|Immunisation$\"\n",
    "p_normal_procedures = r\"(Biopsy|pH|.* examination|X-ray|.* pulse|Blood|Electro(.*)gram|.* test(s)?|Echo(.*)gram|.*(scopy)|Cardiac (imaging|monitoring|ventriculogram)|Chromosomal|Carbohydrate antigen|Cell marker|.* examination|Computerised tomogram|Culture|.* evoked potential(s)?|Cytology|Doppler)(?!.*(abnormal|increased|decreased|depression|elevation|present|absent))\"\n",
    "p_managements = r\"(Catheter|Device\\).*|.* care$|.* user$|Cardiac pacemaker .*\"\n",
    "p_other_irrelevants = r\"Blood group.*|Blood don(or|ation)$|Drug (abuse(r)?|dependence|screen).*|Elderly|Non-tobacco user|No adverse event\"\n",
    "p_covid_related = r\".*COVID-19(prophylaxis|immunisation|screening)|Asymptomatic COVID-19\"\n",
    "\n",
    "p = re.compile(\"|\".join([p_normals, p_tests, p_procedures, p_normal_procedures, p_other_irrelevants, p_covid_related]))\n"
   ],
   "metadata": {
    "collapsed": false,
    "pycharm": {
     "name": "#%%\n"
    }
   }
  },
  {
   "cell_type": "code",
   "execution_count": 84,
   "outputs": [],
   "source": [
    "xt_by_symptom = pd.DataFrame(pd.crosstab(index=matched_up_symptoms.IS_COVID_VACCINE, columns=matched_up_symptoms.SYMPTOM))\n",
    "columns_to_keep = [x for x in list(xt_by_symptom.columns) if not p.match(x)]\n",
    "xt_by_symptom = xt_by_symptom[columns_to_keep]"
   ],
   "metadata": {
    "collapsed": false,
    "pycharm": {
     "name": "#%%\n"
    }
   }
  },
  {
   "cell_type": "code",
   "execution_count": 129,
   "outputs": [
    {
     "data": {
      "text/plain": "  0%|          | 0/2847 [00:00<?, ?it/s]",
      "application/vnd.jupyter.widget-view+json": {
       "version_major": 2,
       "version_minor": 0,
       "model_id": "950a808ffe224df4b43b6ee794b4dc4b"
      }
     },
     "metadata": {},
     "output_type": "display_data"
    }
   ],
   "source": [
    "odds_ratios_by_symptom = pd.DataFrame(columns=xt_by_symptom.columns,\n",
    "                                      index=xt_by_symptom.index)\n",
    "\n",
    "symptom_sums = xt_by_symptom.sum(axis=0)\n",
    "vax_sums = xt_by_symptom.sum(axis=1)[True]\n",
    "xt_by_symptom_total = xt_by_symptom.sum().sum()\n",
    "\n",
    "symptom_iterator = tqdm(xt_by_symptom.columns)\n",
    "\n",
    "res = pd.DataFrame(index = xt_by_symptom.columns, columns = (\"ROR\", \"SE\", \"95CI_upper\", \"95CI_lower\"))\n",
    "\n",
    "for symptom in symptom_iterator:\n",
    "    symptom_iterator.set_description(f\"Processing: {symptom}\")\n",
    "    a = xt_by_symptom.loc[True, symptom]\n",
    "    b = vax_sums - a\n",
    "    c = xt_by_symptom.loc[False, symptom]\n",
    "    d = xt_by_symptom_total - (a + c + d)\n",
    "\n",
    "    OR = (a * d) / (c * b) if c * b > 0 else np.nan\n",
    "    SE = np.sqrt((1/a if a > 0 else 0) + (1/b if b > 0 else 0) + (1/c if c > 0 else 0) + (1/d if d > 0 else 0))\n",
    "\n",
    "    res.loc[symptom, \"ROR\"] = OR\n",
    "    res.loc[symptom, \"SE\"] = SE\n",
    "    res.loc[symptom, \"95CI_upper\"] = np.e ** (np.log(OR) + 1.96 * SE)\n",
    "    res.loc[symptom, \"95CI_lower\"] = np.e ** (np.log(OR) - 1.96 * SE)"
   ],
   "metadata": {
    "collapsed": false,
    "pycharm": {
     "name": "#%%\n"
    }
   }
  },
  {
   "cell_type": "code",
   "execution_count": 123,
   "outputs": [],
   "source": [
    "autoimmune_conditions = (\n",
    "    \"Alveolar proteinosis\",\n",
    "    \"Ankylosing spondylitis\",\n",
    "    \"Antisynthetase syndrome\",\n",
    "    \"Autoimmune colitis\",\n",
    "    \"Autoimmune disorder\",\n",
    "    \"Autoimmune hyperlipidaemia\",\n",
    "    \"Autoimmune inner ear disease\",\n",
    "    \"Autoimmune lymphoproliferative syndrome\",\n",
    "    \"Autoimmune myocarditis\",\n",
    "    \"Autoimmune nephritis\",\n",
    "    \"Autoimmune pericarditis\",\n",
    "    \"Autoimmune retinopathy\",\n",
    "    \"Autoimmune uveitis\",\n",
    "    \"Axial spondyloarthritis\",\n",
    "    \"Birdshot chorioretinopathy\",\n",
    "    \"Chronic autoimmune glomerulonephritis\",\n",
    "    \"Chronic gastritis\",\n",
    "    \"Chronic recurrent multifocal osteomyelitis\",\n",
    "    \"Coeliac disease\",\n",
    "    \"Collagen disorder\",\n",
    "    \"Collagen-vascular disease\",\n",
    "    \"Cryofibrinogenaemia\",\n",
    "    \"Cryoglobulinaemia\",\n",
    "    \"Dermatomyositis\",\n",
    "    \"Dressler's syndrome\",\n",
    "    \"Glomerulonephritis rapidly progressive\",\n",
    "    \"Goodpasture's syndrome\",\n",
    "    \"Immunoglobulin G4 related disease\",\n",
    "    \"Juvenile spondyloarthritis\",\n",
    "    \"Keratoderma blenorrhagica\",\n",
    "    \"Mixed connective tissue disease\",\n",
    "    \"Myocarditis post infection\",\n",
    "    \"Ocular pemphigoid\",\n",
    "    \"Overlap syndrome\",\n",
    "    \"Polychondritis\",\n",
    "    \"Postpericardiotomy syndrome\",\n",
    "    \"Pulmonary renal syndrome\",\n",
    "    \"Reiter's syndrome\",\n",
    "    \"Satoyoshi syndrome\",\n",
    "    \"Sjogren's syndrome\",\n",
    "    \"Sympathetic ophthalmia\",\n",
    "    \"Testicular autoimmunity\",\n",
    "    \"Undifferentiated connective tissue disease\",\n",
    "    \"Antiphospholipid syndrome\",\n",
    "    \"Autoimmune anaemia\",\n",
    "    \"Autoimmune aplastic anaemia\",\n",
    "    \"Autoimmune haemolytic anaemia\",\n",
    "    \"Autoimmune neutropenia\",\n",
    "    \"Autoimmune pancytopenia\",\n",
    "    \"Cold type haemolytic anaemia\",\n",
    "    \"Coombs positive haemolytic anaemia\",\n",
    "    \"Evans syndrome\",\n",
    "    \"Immune thrombocytopenic purpura\",\n",
    "    \"Pernicious anaemia\",\n",
    "    \"Warm type haemolytic anaemia\",\n",
    "    \"Addison's disease\",\n",
    "    \"Atrophic thyroiditis\",\n",
    "    \"Autoimmune endocrine disorder\",\n",
    "    \"Autoimmune hypothyroidism\",\n",
    "    \"Autoimmune pancreatitis\",\n",
    "    \"Autoimmune thyroid disorder\",\n",
    "    \"Autoimmune thyroiditis\",\n",
    "    \"Basedow's disease\",\n",
    "    \"Diabetic mastopathy\",\n",
    "    \"Endocrine ophthalmopathy\",\n",
    "    \"Hashimoto's encephalopathy\",\n",
    "    \"Hashitoxicosis\",\n",
    "    \"Insulin autoimmune syndrome\",\n",
    "    \"Ketosis-prone diabetes mellitus\",\n",
    "    \"Latent autoimmune diabetes in adults\",\n",
    "    \"Lymphocytic hypophysitis\",\n",
    "    \"Marine Lenhart syndrome\",\n",
    "    \"Polyglandular autoimmune syndrome type I\",\n",
    "    \"Polyglandular autoimmune syndrome type II\",\n",
    "    \"Polyglandular autoimmune syndrome type III\",\n",
    "    \"Silent thyroiditis\",\n",
    "    \"Type 1 diabetes mellitus\",\n",
    "    \"Autoimmune hepatitis\",\n",
    "    \"Biliary cirrhosis primary\",\n",
    "    \"Cholangitis sclerosing\",\n",
    "    \"Acute cutaneous lupus erythematosus\",\n",
    "    \"Butterfly rash\",\n",
    "    \"Central nervous system lupus\",\n",
    "    \"Chronic cutaneous lupus erythematosus\",\n",
    "    \"Cutaneous lupus erythematosus\",\n",
    "    \"Lupoid hepatic cirrhosis\",\n",
    "    \"Lupus cystitis\",\n",
    "    \"Lupus encephalitis\",\n",
    "    \"Lupus endocarditis\",\n",
    "    \"Lupus enteritis\",\n",
    "    \"Lupus hepatitis\",\n",
    "    \"Lupus myocarditis\",\n",
    "    \"Lupus myositis\",\n",
    "    \"Lupus nephritis\",\n",
    "    \"Lupus pancreatitis\",\n",
    "    \"Lupus pleurisy\",\n",
    "    \"Lupus pneumonitis\",\n",
    "    \"Lupus vasculitis\",\n",
    "    \"Lupus-like syndrome\",\n",
    "    \"Neonatal lupus erythematosus\",\n",
    "    \"Neuropsychiatric lupus\",\n",
    "    \"Pericarditis lupus\",\n",
    "    \"Peritonitis lupus\",\n",
    "    \"Shrinking lung syndrome\",\n",
    "    \"SLE arthritis\",\n",
    "    \"Subacute cutaneous lupus erythematosus\",\n",
    "    \"Systemic lupus erythematosus\",\n",
    "    \"Systemic lupus erythematosus rash\",\n",
    "    \"Immune-mediated necrotising myopathy\",\n",
    "    \"Inclusion body myositis\",\n",
    "    \"Juvenile polymyositis\",\n",
    "    \"Morvan syndrome\",\n",
    "    \"Myasthenia gravis\",\n",
    "    \"Myasthenia gravis crisis\",\n",
    "    \"Myasthenia gravis neonatal\",\n",
    "    \"Myasthenic syndrome\",\n",
    "    \"Neuromyotonia\",\n",
    "    \"Ocular myasthenia\",\n",
    "    \"Polymyalgia rheumatica\",\n",
    "    \"Polymyositis\",\n",
    "    \"Acute disseminated encephalomyelitis\",\n",
    "    \"Acute haemorrhagic leukoencephalitis\",\n",
    "    \"Acute motor axonal neuropathy\",\n",
    "    \"Acute motor-sensory axonal neuropathy\",\n",
    "    \"Anti-myelin-associated glycoprotein associated polyneuropathy\",\n",
    "    \"Autoimmune demyelinating disease\",\n",
    "    \"Autoimmune encephalopathy\",\n",
    "    \"Autoimmune neuropathy\",\n",
    "    \"Bickerstaff's encephalitis\",\n",
    "    \"Chronic inflammatory demyelinating polyradiculoneuropathy\",\n",
    "    \"Chronic lymphocytic inflammation with pontine perivascular enhancement responsive to steroids\",\n",
    "    \"Concentric sclerosis\",\n",
    "    \"Demyelinating polyneuropathy\",\n",
    "    \"Encephalitis allergic\",\n",
    "    \"Encephalitis autoimmune\",\n",
    "    \"Guillain-Barre syndrome\",\n",
    "    \"Leukoencephalomyelitis\",\n",
    "    \"Limbic encephalitis\",\n",
    "    \"Multiple sclerosis\",\n",
    "    \"Myelitis transverse\",\n",
    "    \"Neuralgic amyotrophy\",\n",
    "    \"Neuromyelitis optica spectrum disorder\",\n",
    "    \"Optic neuritis\",\n",
    "    \"Paediatric autoimmune neuropsychiatric disorders associated with streptococcal infection\",\n",
    "    \"POEMS syndrome\",\n",
    "    \"Radiologically isolated syndrome\",\n",
    "    \"Rasmussen encephalitis\",\n",
    "    \"Secondary cerebellar degeneration\",\n",
    "    \"Stiff leg syndrome\",\n",
    "    \"Stiff person syndrome\",\n",
    "    \"Susac's syndrome\",\n",
    "    \"Toxic oil syndrome\",\n",
    "    \"Autoimmune arthritis\",\n",
    "    \"Caplan's syndrome\",\n",
    "    \"Cogan's syndrome\",\n",
    "    \"Felty's syndrome\",\n",
    "    \"Juvenile idiopathic arthritis\",\n",
    "    \"Laryngeal rheumatoid arthritis\",\n",
    "    \"Palindromic rheumatism\",\n",
    "    \"Rheumatoid arthritis\",\n",
    "    \"Rheumatoid lung\",\n",
    "    \"Rheumatoid neutrophilic dermatosis\",\n",
    "    \"Rheumatoid nodule\",\n",
    "    \"Rheumatoid scleritis\",\n",
    "    \"Rheumatoid vasculitis\",\n",
    "    \"CREST syndrome\",\n",
    "    \"Digital pitting scar\",\n",
    "    \"Morphoea\",\n",
    "    \"Reynold's syndrome\",\n",
    "    \"Sclerodactylia\",\n",
    "    \"Scleroderma\",\n",
    "    \"Scleroderma associated digital ulcer\",\n",
    "    \"Scleroderma renal crisis\",\n",
    "    \"Scleroderma-like reaction\",\n",
    "    \"Systemic scleroderma\",\n",
    "    \"Systemic sclerosis pulmonary\",\n",
    "    \"Alopecia areata\",\n",
    "    \"Autoimmune dermatitis\",\n",
    "    \"Benign familial pemphigus\",\n",
    "    \"Dermatitis herpetiformis\",\n",
    "    \"Eosinophilic fasciitis\",\n",
    "    \"Granulomatous dermatitis\",\n",
    "    \"Herpes gestationis\",\n",
    "    \"Interstitial granulomatous dermatitis\",\n",
    "    \"Linear IgA disease\",\n",
    "    \"Nephrogenic systemic fibrosis\",\n",
    "    \"Palisaded neutrophilic granulomatous dermatitis\",\n",
    "    \"Paraneoplastic dermatomyositis\",\n",
    "    \"Paraneoplastic pemphigus\",\n",
    "    \"Pemphigoid\",\n",
    "    \"Pemphigus\",\n",
    "    \"Pityriasis lichenoides et varioliformis acuta\",\n",
    "    \"Progressive facial hemiatrophy\",\n",
    "    \"Pyoderma gangrenosum\",\n",
    "    \"Vitiligo\",\n",
    "    \"Autoinflammatory disease\",\n",
    "    \"Blau syndrome\",\n",
    "    \"CANDLE syndrome\",\n",
    "    \"Chronic infantile neurological cutaneous and articular syndrome\",\n",
    "    \"Cryopyrin associated periodic syndrome\",\n",
    "    \"Deficiency of the interleukin-1 receptor antagonist\",\n",
    "    \"Deficiency of the interleukin-36 receptor antagonist\",\n",
    "    \"Familial cold autoinflammatory syndrome\",\n",
    "    \"Hyper IgD syndrome\",\n",
    "    \"Majeed's syndrome\",\n",
    "    \"Mevalonate kinase deficiency\",\n",
    "    \"Mevalonic aciduria\",\n",
    "    \"Muckle-Wells syndrome\",\n",
    "    \"Pyogenic sterile arthritis pyoderma gangrenosum and acne syndrome\",\n",
    "    \"Still's disease\"\n",
    ")"
   ],
   "metadata": {
    "collapsed": false,
    "pycharm": {
     "name": "#%%\n"
    }
   }
  },
  {
   "cell_type": "code",
   "execution_count": 130,
   "outputs": [
    {
     "data": {
      "text/plain": "                                                         ROR        SE  \\\nSYMPTOM                                                                  \nAcute disseminated encephalomyelitis                     0.0  0.447248   \nAlopecia areata                                     1.185035  1.224762   \nAnkylosing spondylitis                              1.007458  1.414224   \nAutoimmune disorder                                 0.544566  0.507549   \nAutoimmune hepatitis                                0.998311  1.414224   \nAutoimmune thyroiditis                              0.200643  1.154718   \nBickerstaff's encephalitis                               0.0  1.000015   \nChronic inflammatory demyelinating polyradiculo...       0.0  0.500039   \nCollagen disorder                                        0.0  1.000015   \nDemyelinating polyneuropathy                        0.323841  1.224761   \nDermatomyositis                                     0.649067  1.414227   \nEncephalitis autoimmune                              0.87731  1.414225   \nGuillain-Barre syndrome                             0.186247  0.241203   \nImmune thrombocytopenic purpura                          0.0  0.577378   \nLeukoencephalomyelitis                                   0.0  1.000015   \nLupus nephritis                                     0.595446  1.414228   \nMultiple sclerosis                                  0.264627  0.539398   \nMyasthenia gravis                                   2.079238  1.224757   \nMyasthenic syndrome                                      0.0  0.204228   \nMyelitis transverse                                 0.560095  0.534562   \nNeuralgic amyotrophy                                     0.0  1.000022   \nOptic neuritis                                      1.089502  0.577376   \nPemphigoid                                               0.0  0.577393   \nPemphigus                                                0.0  0.707127   \nPolymyalgia rheumatica                              0.061955  1.069069   \nRheumatoid arthritis                                0.872391  0.428209   \nSystemic lupus erythematosus                        0.279274  0.612407   \nType 1 diabetes mellitus                            0.540555  1.000022   \n\n                                                   95CI_upper 95CI_lower  \nSYMPTOM                                                                   \nAcute disseminated encephalomyelitis                      0.0        0.0  \nAlopecia areata                                     13.069813   0.107447  \nAnkylosing spondylitis                                16.1079   0.063011  \nAutoimmune disorder                                  1.472602    0.20138  \nAutoimmune hepatitis                                15.961648   0.062439  \nAutoimmune thyroiditis                               1.929037   0.020869  \nBickerstaff's encephalitis                                0.0        0.0  \nChronic inflammatory demyelinating polyradiculo...        0.0        0.0  \nCollagen disorder                                         0.0        0.0  \nDemyelinating polyneuropathy                         3.571652   0.029363  \nDermatomyositis                                      10.37777   0.040595  \nEncephalitis autoimmune                             14.027026   0.054871  \nGuillain-Barre syndrome                              0.298816   0.116084  \nImmune thrombocytopenic purpura                           0.0        0.0  \nLeukoencephalomyelitis                                    0.0        0.0  \nLupus nephritis                                      9.520453   0.037242  \nMultiple sclerosis                                   0.761691   0.091937  \nMyasthenia gravis                                   22.931814   0.188525  \nMyasthenic syndrome                                       0.0        0.0  \nMyelitis transverse                                  1.596946   0.196441  \nNeuralgic amyotrophy                                      0.0        0.0  \nOptic neuritis                                       3.378313   0.351363  \nPemphigoid                                                0.0        0.0  \nPemphigus                                                 0.0        0.0  \nPolymyalgia rheumatica                               0.503601   0.007622  \nRheumatoid arthritis                                 2.019344   0.376888  \nSystemic lupus erythematosus                         0.927516   0.084089  \nType 1 diabetes mellitus                             3.837739   0.076138  ",
      "text/html": "<div>\n<style scoped>\n    .dataframe tbody tr th:only-of-type {\n        vertical-align: middle;\n    }\n\n    .dataframe tbody tr th {\n        vertical-align: top;\n    }\n\n    .dataframe thead th {\n        text-align: right;\n    }\n</style>\n<table border=\"1\" class=\"dataframe\">\n  <thead>\n    <tr style=\"text-align: right;\">\n      <th></th>\n      <th>ROR</th>\n      <th>SE</th>\n      <th>95CI_upper</th>\n      <th>95CI_lower</th>\n    </tr>\n    <tr>\n      <th>SYMPTOM</th>\n      <th></th>\n      <th></th>\n      <th></th>\n      <th></th>\n    </tr>\n  </thead>\n  <tbody>\n    <tr>\n      <th>Acute disseminated encephalomyelitis</th>\n      <td>0.0</td>\n      <td>0.447248</td>\n      <td>0.0</td>\n      <td>0.0</td>\n    </tr>\n    <tr>\n      <th>Alopecia areata</th>\n      <td>1.185035</td>\n      <td>1.224762</td>\n      <td>13.069813</td>\n      <td>0.107447</td>\n    </tr>\n    <tr>\n      <th>Ankylosing spondylitis</th>\n      <td>1.007458</td>\n      <td>1.414224</td>\n      <td>16.1079</td>\n      <td>0.063011</td>\n    </tr>\n    <tr>\n      <th>Autoimmune disorder</th>\n      <td>0.544566</td>\n      <td>0.507549</td>\n      <td>1.472602</td>\n      <td>0.20138</td>\n    </tr>\n    <tr>\n      <th>Autoimmune hepatitis</th>\n      <td>0.998311</td>\n      <td>1.414224</td>\n      <td>15.961648</td>\n      <td>0.062439</td>\n    </tr>\n    <tr>\n      <th>Autoimmune thyroiditis</th>\n      <td>0.200643</td>\n      <td>1.154718</td>\n      <td>1.929037</td>\n      <td>0.020869</td>\n    </tr>\n    <tr>\n      <th>Bickerstaff's encephalitis</th>\n      <td>0.0</td>\n      <td>1.000015</td>\n      <td>0.0</td>\n      <td>0.0</td>\n    </tr>\n    <tr>\n      <th>Chronic inflammatory demyelinating polyradiculoneuropathy</th>\n      <td>0.0</td>\n      <td>0.500039</td>\n      <td>0.0</td>\n      <td>0.0</td>\n    </tr>\n    <tr>\n      <th>Collagen disorder</th>\n      <td>0.0</td>\n      <td>1.000015</td>\n      <td>0.0</td>\n      <td>0.0</td>\n    </tr>\n    <tr>\n      <th>Demyelinating polyneuropathy</th>\n      <td>0.323841</td>\n      <td>1.224761</td>\n      <td>3.571652</td>\n      <td>0.029363</td>\n    </tr>\n    <tr>\n      <th>Dermatomyositis</th>\n      <td>0.649067</td>\n      <td>1.414227</td>\n      <td>10.37777</td>\n      <td>0.040595</td>\n    </tr>\n    <tr>\n      <th>Encephalitis autoimmune</th>\n      <td>0.87731</td>\n      <td>1.414225</td>\n      <td>14.027026</td>\n      <td>0.054871</td>\n    </tr>\n    <tr>\n      <th>Guillain-Barre syndrome</th>\n      <td>0.186247</td>\n      <td>0.241203</td>\n      <td>0.298816</td>\n      <td>0.116084</td>\n    </tr>\n    <tr>\n      <th>Immune thrombocytopenic purpura</th>\n      <td>0.0</td>\n      <td>0.577378</td>\n      <td>0.0</td>\n      <td>0.0</td>\n    </tr>\n    <tr>\n      <th>Leukoencephalomyelitis</th>\n      <td>0.0</td>\n      <td>1.000015</td>\n      <td>0.0</td>\n      <td>0.0</td>\n    </tr>\n    <tr>\n      <th>Lupus nephritis</th>\n      <td>0.595446</td>\n      <td>1.414228</td>\n      <td>9.520453</td>\n      <td>0.037242</td>\n    </tr>\n    <tr>\n      <th>Multiple sclerosis</th>\n      <td>0.264627</td>\n      <td>0.539398</td>\n      <td>0.761691</td>\n      <td>0.091937</td>\n    </tr>\n    <tr>\n      <th>Myasthenia gravis</th>\n      <td>2.079238</td>\n      <td>1.224757</td>\n      <td>22.931814</td>\n      <td>0.188525</td>\n    </tr>\n    <tr>\n      <th>Myasthenic syndrome</th>\n      <td>0.0</td>\n      <td>0.204228</td>\n      <td>0.0</td>\n      <td>0.0</td>\n    </tr>\n    <tr>\n      <th>Myelitis transverse</th>\n      <td>0.560095</td>\n      <td>0.534562</td>\n      <td>1.596946</td>\n      <td>0.196441</td>\n    </tr>\n    <tr>\n      <th>Neuralgic amyotrophy</th>\n      <td>0.0</td>\n      <td>1.000022</td>\n      <td>0.0</td>\n      <td>0.0</td>\n    </tr>\n    <tr>\n      <th>Optic neuritis</th>\n      <td>1.089502</td>\n      <td>0.577376</td>\n      <td>3.378313</td>\n      <td>0.351363</td>\n    </tr>\n    <tr>\n      <th>Pemphigoid</th>\n      <td>0.0</td>\n      <td>0.577393</td>\n      <td>0.0</td>\n      <td>0.0</td>\n    </tr>\n    <tr>\n      <th>Pemphigus</th>\n      <td>0.0</td>\n      <td>0.707127</td>\n      <td>0.0</td>\n      <td>0.0</td>\n    </tr>\n    <tr>\n      <th>Polymyalgia rheumatica</th>\n      <td>0.061955</td>\n      <td>1.069069</td>\n      <td>0.503601</td>\n      <td>0.007622</td>\n    </tr>\n    <tr>\n      <th>Rheumatoid arthritis</th>\n      <td>0.872391</td>\n      <td>0.428209</td>\n      <td>2.019344</td>\n      <td>0.376888</td>\n    </tr>\n    <tr>\n      <th>Systemic lupus erythematosus</th>\n      <td>0.279274</td>\n      <td>0.612407</td>\n      <td>0.927516</td>\n      <td>0.084089</td>\n    </tr>\n    <tr>\n      <th>Type 1 diabetes mellitus</th>\n      <td>0.540555</td>\n      <td>1.000022</td>\n      <td>3.837739</td>\n      <td>0.076138</td>\n    </tr>\n  </tbody>\n</table>\n</div>"
     },
     "execution_count": 130,
     "metadata": {},
     "output_type": "execute_result"
    }
   ],
   "source": [
    "res.loc[[x for x in res.index if x in autoimmune_conditions],:].dropna()"
   ],
   "metadata": {
    "collapsed": false,
    "pycharm": {
     "name": "#%%\n"
    }
   }
  },
  {
   "cell_type": "code",
   "execution_count": null,
   "outputs": [],
   "source": [],
   "metadata": {
    "collapsed": false,
    "pycharm": {
     "name": "#%%\n"
    }
   }
  }
 ],
 "metadata": {
  "kernelspec": {
   "display_name": "Python 3",
   "language": "python",
   "name": "python3"
  },
  "language_info": {
   "codemirror_mode": {
    "name": "ipython",
    "version": 2
   },
   "file_extension": ".py",
   "mimetype": "text/x-python",
   "name": "python",
   "nbconvert_exporter": "python",
   "pygments_lexer": "ipython2",
   "version": "2.7.6"
  }
 },
 "nbformat": 4,
 "nbformat_minor": 0
}