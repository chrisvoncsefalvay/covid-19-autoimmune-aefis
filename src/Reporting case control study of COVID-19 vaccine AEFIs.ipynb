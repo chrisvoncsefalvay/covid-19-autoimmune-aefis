{
 "cells": [
  {
   "cell_type": "markdown",
   "metadata": {
    "collapsed": true,
    "pycharm": {
     "name": "#%% md\n"
    }
   },
   "source": [
    "# A Reporting Case-Control Study of AEFIs Following the COVID-19 Vaccine Reported to VAERS\n",
    "\n",
    "_Chris von Csefalvay_\n",
    "\n",
    "_04 July 2021_"
   ]
  },
  {
   "cell_type": "markdown",
   "source": [
    "## Analysis plan\n",
    "\n",
    "1. Import VAERS data from 2015 onwards, to give a sufficient number of records.\n",
    "2. We filter out unknown ages and genders.\n",
    "3. We then bracket age groups: <18, 18-25, 26-35, 36-45, 46-55, 56-65, 66-75, 76-85, 85+\n",
    "4. We use `pymatch` to create a matched set of controls by:\n",
    "    * age band\n",
    "    * gender\n",
    "5. We drop all events that have fewer occurrences than 0.5% of the higher of the two sets' cardinalities.\n",
    "6. We filter out all diagnostic, procedural &c. codes.\n",
    "7. Finally, we calculate the reporting odds ratios of all symptoms."
   ],
   "metadata": {
    "collapsed": false,
    "pycharm": {
     "name": "#%% md\n"
    }
   }
  },
  {
   "cell_type": "code",
   "execution_count": 27,
   "outputs": [
    {
     "name": "stdout",
     "output_type": "stream",
     "text": [
      "pandas version: 1.3.0\n",
      "numpy version: 1.21.0\n",
      "statsmodels version: 0.12.2\n"
     ]
    }
   ],
   "source": [
    "import statsmodels\n",
    "import statsmodels.api as sm\n",
    "import matplotlib.pyplot as plt\n",
    "import seaborn as sns\n",
    "import pandas as pd\n",
    "import numpy as np\n",
    "import pymatch\n",
    "from pymatch import Matcher\n",
    "import sys, re, os, glob\n",
    "from tqdm.autonotebook import tqdm\n",
    "\n",
    "tqdm.pandas()\n",
    "\n",
    "import warnings\n",
    "warnings.filterwarnings('ignore')\n",
    "\n",
    "%matplotlib inline\n",
    "\n",
    "print(f\"pandas version: {pd.__version__}\")\n",
    "print(f\"numpy version: {np.__version__}\")\n",
    "print(f\"statsmodels version: {statsmodels.__version__}\")"
   ],
   "metadata": {
    "collapsed": false,
    "pycharm": {
     "name": "#%%\n"
    }
   }
  },
  {
   "cell_type": "markdown",
   "source": [
    "## Analysis"
   ],
   "metadata": {
    "collapsed": false,
    "pycharm": {
     "name": "#%% md\n"
    }
   }
  },
  {
   "cell_type": "markdown",
   "source": [
    "### Loading VAERS data\n",
    "\n",
    "Note: for legal reasons, we cannot reproduce the raw VAERS data in Github. However, you can download the VAERS data set\n",
    "from [HHS](https://vaers.hhs.gov)."
   ],
   "metadata": {
    "collapsed": false,
    "pycharm": {
     "name": "#%% md\n"
    }
   }
  },
  {
   "cell_type": "code",
   "execution_count": 28,
   "outputs": [
    {
     "data": {
      "text/plain": "  0%|          | 0/27 [00:00<?, ?it/s]",
      "application/vnd.jupyter.widget-view+json": {
       "version_major": 2,
       "version_minor": 0,
       "model_id": "e30b86afbe35489b959072139f461596"
      }
     },
     "metadata": {},
     "output_type": "display_data"
    }
   ],
   "source": [
    "path = \"../data/\" # use your path\n",
    "vaccine_files = glob.glob(path + \"*VAERSVAX.csv\")\n",
    "\n",
    "vax_frames = []\n",
    "\n",
    "for filename in tqdm(vaccine_files):\n",
    "    df = pd.read_csv(filename, index_col=None, header=0, encoding=\"latin\")\n",
    "    vax_frames.append(df)\n",
    "\n",
    "vax = pd.concat(vax_frames, axis=0, ignore_index=True)[[\"VAERS_ID\", \"VAX_TYPE\"]]\n",
    "vax[\"VAX_TYPE\"] = vax[\"VAX_TYPE\"] == \"COVID19\"\n",
    "vax.columns = [\"VAERS_ID\", \"IS_COVID_VACCINE\"]"
   ],
   "metadata": {
    "collapsed": false,
    "pycharm": {
     "name": "#%%\n"
    }
   }
  },
  {
   "cell_type": "code",
   "execution_count": 29,
   "outputs": [
    {
     "data": {
      "text/plain": "  0%|          | 0/27 [00:00<?, ?it/s]",
      "application/vnd.jupyter.widget-view+json": {
       "version_major": 2,
       "version_minor": 0,
       "model_id": "36328434e9c04405a9da538c468055fd"
      }
     },
     "metadata": {},
     "output_type": "display_data"
    }
   ],
   "source": [
    "recipient_files = glob.glob(path + \"*VAERSDATA.csv\")\n",
    "\n",
    "recipient_frames = []\n",
    "\n",
    "for filename in tqdm(recipient_files):\n",
    "    df = pd.read_csv(filename, index_col=None, header=0, encoding=\"latin\")\n",
    "    recipient_frames.append(df)\n",
    "\n",
    "recipients = pd.concat(recipient_frames, axis=0, ignore_index=True)[[\"VAERS_ID\", \"SEX\", \"CAGE_YR\"]]"
   ],
   "metadata": {
    "collapsed": false,
    "pycharm": {
     "name": "#%%\n"
    }
   }
  },
  {
   "cell_type": "code",
   "execution_count": 30,
   "outputs": [
    {
     "data": {
      "text/plain": "  0%|          | 0/27 [00:00<?, ?it/s]",
      "application/vnd.jupyter.widget-view+json": {
       "version_major": 2,
       "version_minor": 0,
       "model_id": "c9ad81c56bd140b5af46565d8ad481fb"
      }
     },
     "metadata": {},
     "output_type": "display_data"
    }
   ],
   "source": [
    "symptoms_files = glob.glob(path + \"*VAERSSYMPTOMS.csv\")\n",
    "\n",
    "symptoms_frames = []\n",
    "\n",
    "for filename in tqdm(symptoms_files):\n",
    "    df = pd.read_csv(filename, index_col=None, header=0)\n",
    "    symptoms_frames.append(df)\n",
    "\n",
    "\n",
    "symptoms = pd.melt(pd.concat(symptoms_frames, axis=0, ignore_index=True)[[\"VAERS_ID\", \"SYMPTOM1\", \"SYMPTOM2\", \"SYMPTOM3\", \"SYMPTOM4\", \"SYMPTOM5\"]],\n",
    "               id_vars=\"VAERS_ID\",\n",
    "               value_vars=(f\"SYMPTOM{i}\" for i in range(1, 6))).drop(\"variable\", axis=1)\n",
    "\n",
    "symptoms.columns = (\"VAERS_ID\", \"SYMPTOM\")"
   ],
   "metadata": {
    "collapsed": false,
    "pycharm": {
     "name": "#%%\n"
    }
   }
  },
  {
   "cell_type": "code",
   "execution_count": 31,
   "outputs": [],
   "source": [
    "vaccination_data = vax.merge(recipients, how=\"inner\", on=\"VAERS_ID\")"
   ],
   "metadata": {
    "collapsed": false,
    "pycharm": {
     "name": "#%%\n"
    }
   }
  },
  {
   "cell_type": "code",
   "execution_count": 36,
   "outputs": [
    {
     "name": "stdout",
     "output_type": "stream",
     "text": [
      "Retrieved 1421356 rows.\n",
      "Breakdown:\n",
      "* COVID-19: 417186\n",
      "* Non-COVID-19: 1004170\n",
      " => Gearing: 2.41\n"
     ]
    }
   ],
   "source": [
    "print(f\"Retrieved {vaccination_data.shape[0]} rows.\")\n",
    "print(f\"Breakdown:\")\n",
    "print(f\"* COVID-19: {vax[vax.IS_COVID_VACCINE == True][['VAERS_ID']].count().values[0]}\")\n",
    "print(f\"* Non-COVID-19: {vax[vax.IS_COVID_VACCINE == False][['VAERS_ID']].count().values[0]}\")\n",
    "print(f\" => Gearing: {vax[vax.IS_COVID_VACCINE == False][['VAERS_ID']].count().values[0]/vax[vax.IS_COVID_VACCINE == True][['VAERS_ID']].count().values[0]:.2f}\")"
   ],
   "metadata": {
    "collapsed": false,
    "pycharm": {
     "name": "#%%\n"
    }
   }
  },
  {
   "cell_type": "code",
   "execution_count": 32,
   "outputs": [],
   "source": [],
   "metadata": {
    "collapsed": false,
    "pycharm": {
     "name": "#%%\n"
    }
   }
  }
 ],
 "metadata": {
  "kernelspec": {
   "display_name": "Python 3",
   "language": "python",
   "name": "python3"
  },
  "language_info": {
   "codemirror_mode": {
    "name": "ipython",
    "version": 2
   },
   "file_extension": ".py",
   "mimetype": "text/x-python",
   "name": "python",
   "nbconvert_exporter": "python",
   "pygments_lexer": "ipython2",
   "version": "2.7.6"
  }
 },
 "nbformat": 4,
 "nbformat_minor": 0
}